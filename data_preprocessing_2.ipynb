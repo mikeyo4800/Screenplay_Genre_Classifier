{
 "cells": [
  {
   "cell_type": "code",
   "execution_count": 32,
   "metadata": {},
   "outputs": [],
   "source": [
    "import pandas as pd\n",
    "from preprocessing import TextPreprocessor"
   ]
  },
  {
   "cell_type": "code",
   "execution_count": 2,
   "metadata": {},
   "outputs": [],
   "source": [
    "data = pd.read_csv('data/txt_and_genres.csv')\n",
    "data.drop(columns=['Unnamed: 0'], inplace=True)"
   ]
  },
  {
   "cell_type": "code",
   "execution_count": 3,
   "metadata": {},
   "outputs": [
    {
     "name": "stderr",
     "output_type": "stream",
     "text": [
      "C:\\Users\\mikey\\AppData\\Local\\Temp\\ipykernel_20876\\1755058337.py:1: FutureWarning: The default value of regex will change from True to False in a future version. In addition, single character regular expressions will *not* be treated as literal strings when regex=True.\n",
      "  data['genre'] = data.genre.str.replace(']', '').str.strip('[').str.replace(',', '').str.split()\n"
     ]
    }
   ],
   "source": [
    "data['genre'] = data.genre.str.replace(']', '').str.strip('[').str.replace(',', '').str.split()"
   ]
  },
  {
   "cell_type": "code",
   "execution_count": 4,
   "metadata": {},
   "outputs": [],
   "source": [
    "def lst_breaker(row):\n",
    "    lst = []\n",
    "    for i in row:\n",
    "        lst.append(i.strip(\"'\"))\n",
    "    \n",
    "    if 'Science' in lst:\n",
    "        idx = lst.index('Science')\n",
    "        lst.insert(idx, 'SciFi')\n",
    "        lst.remove('Science')\n",
    "        lst.remove('Fiction')\n",
    "\n",
    "    return lst"
   ]
  },
  {
   "cell_type": "code",
   "execution_count": 5,
   "metadata": {},
   "outputs": [],
   "source": [
    "data['genre'] = data.genre.apply(lambda x: lst_breaker(x))"
   ]
  },
  {
   "cell_type": "code",
   "execution_count": 6,
   "metadata": {},
   "outputs": [
    {
     "data": {
      "text/plain": [
       "0                    [Thriller, Action, Crime]\n",
       "1                     [Comedy, Romance, Drama]\n",
       "2                     [Comedy, Romance, Drama]\n",
       "3          [Adventure, Action, Drama, Fantasy]\n",
       "4                                      [Drama]\n",
       "                         ...                  \n",
       "2120         [Crime, Drama, Mystery, Thriller]\n",
       "2121                          [Comedy, Horror]\n",
       "2122                 [Comedy, Romance, Family]\n",
       "2123    [Animation, Adventure, Family, Comedy]\n",
       "2124          [Adventure, Drama, History, War]\n",
       "Name: genre, Length: 2125, dtype: object"
      ]
     },
     "execution_count": 6,
     "metadata": {},
     "output_type": "execute_result"
    }
   ],
   "source": [
    "data.genre"
   ]
  },
  {
   "cell_type": "code",
   "execution_count": 7,
   "metadata": {},
   "outputs": [],
   "source": [
    "good_data = data[data.genre_amount > 0]"
   ]
  },
  {
   "cell_type": "code",
   "execution_count": 8,
   "metadata": {},
   "outputs": [],
   "source": [
    "def genre_check(row, genre):\n",
    "    if genre in row:\n",
    "        return 1\n",
    "    else:\n",
    "        return 0"
   ]
  },
  {
   "cell_type": "code",
   "execution_count": 9,
   "metadata": {},
   "outputs": [
    {
     "data": {
      "text/plain": [
       "['History',\n",
       " 'Western',\n",
       " 'Crime',\n",
       " 'Movie',\n",
       " 'Romance',\n",
       " 'Animation',\n",
       " 'Thriller',\n",
       " 'Documentary',\n",
       " 'War',\n",
       " 'Action',\n",
       " 'Horror',\n",
       " 'SciFi',\n",
       " 'TV',\n",
       " 'Fantasy',\n",
       " 'Mystery',\n",
       " 'Family',\n",
       " 'Music',\n",
       " 'Comedy',\n",
       " 'Adventure',\n",
       " 'Drama']"
      ]
     },
     "execution_count": 9,
     "metadata": {},
     "output_type": "execute_result"
    }
   ],
   "source": [
    "genre_lst = []\n",
    "\n",
    "for i in good_data.genre:\n",
    "    for x in i:\n",
    "        genre_lst.append(x)\n",
    "\n",
    "genre_lst = list(set(genre_lst))\n",
    "genre_lst"
   ]
  },
  {
   "cell_type": "code",
   "execution_count": 10,
   "metadata": {},
   "outputs": [],
   "source": [
    "genre_lst.remove('TV')\n",
    "genre_lst.remove('Movie')"
   ]
  },
  {
   "cell_type": "code",
   "execution_count": 11,
   "metadata": {},
   "outputs": [
    {
     "name": "stderr",
     "output_type": "stream",
     "text": [
      "C:\\Users\\mikey\\anaconda3\\envs\\contest_env\\lib\\site-packages\\pandas\\core\\frame.py:3607: SettingWithCopyWarning: \n",
      "A value is trying to be set on a copy of a slice from a DataFrame.\n",
      "Try using .loc[row_indexer,col_indexer] = value instead\n",
      "\n",
      "See the caveats in the documentation: https://pandas.pydata.org/pandas-docs/stable/user_guide/indexing.html#returning-a-view-versus-a-copy\n",
      "  self._set_item(key, value)\n"
     ]
    }
   ],
   "source": [
    "for i in genre_lst:\n",
    "    good_data[i] = good_data.genre.apply(lambda x: genre_check(x, i))"
   ]
  },
  {
   "cell_type": "code",
   "execution_count": 12,
   "metadata": {},
   "outputs": [
    {
     "data": {
      "text/html": [
       "<div>\n",
       "<style scoped>\n",
       "    .dataframe tbody tr th:only-of-type {\n",
       "        vertical-align: middle;\n",
       "    }\n",
       "\n",
       "    .dataframe tbody tr th {\n",
       "        vertical-align: top;\n",
       "    }\n",
       "\n",
       "    .dataframe thead th {\n",
       "        text-align: right;\n",
       "    }\n",
       "</style>\n",
       "<table border=\"1\" class=\"dataframe\">\n",
       "  <thead>\n",
       "    <tr style=\"text-align: right;\">\n",
       "      <th></th>\n",
       "      <th>title</th>\n",
       "      <th>text</th>\n",
       "      <th>genre</th>\n",
       "      <th>genre_amount</th>\n",
       "      <th>History</th>\n",
       "      <th>Western</th>\n",
       "      <th>Crime</th>\n",
       "      <th>Romance</th>\n",
       "      <th>Animation</th>\n",
       "      <th>Thriller</th>\n",
       "      <th>...</th>\n",
       "      <th>Action</th>\n",
       "      <th>Horror</th>\n",
       "      <th>SciFi</th>\n",
       "      <th>Fantasy</th>\n",
       "      <th>Mystery</th>\n",
       "      <th>Family</th>\n",
       "      <th>Music</th>\n",
       "      <th>Comedy</th>\n",
       "      <th>Adventure</th>\n",
       "      <th>Drama</th>\n",
       "    </tr>\n",
       "  </thead>\n",
       "  <tbody>\n",
       "    <tr>\n",
       "      <th>0</th>\n",
       "      <td>Domino</td>\n",
       "      <td>b'D      O       M       I       N       O\\r\\n...</td>\n",
       "      <td>[Thriller, Action, Crime]</td>\n",
       "      <td>3</td>\n",
       "      <td>0</td>\n",
       "      <td>0</td>\n",
       "      <td>1</td>\n",
       "      <td>0</td>\n",
       "      <td>0</td>\n",
       "      <td>1</td>\n",
       "      <td>...</td>\n",
       "      <td>1</td>\n",
       "      <td>0</td>\n",
       "      <td>0</td>\n",
       "      <td>0</td>\n",
       "      <td>0</td>\n",
       "      <td>0</td>\n",
       "      <td>0</td>\n",
       "      <td>0</td>\n",
       "      <td>0</td>\n",
       "      <td>0</td>\n",
       "    </tr>\n",
       "    <tr>\n",
       "      <th>1</th>\n",
       "      <td>Knocked Up</td>\n",
       "      <td>b'KNOCKED UP\\r\\n\\r\\nWritten by\\r\\n\\r\\nJudd Apa...</td>\n",
       "      <td>[Comedy, Romance, Drama]</td>\n",
       "      <td>3</td>\n",
       "      <td>0</td>\n",
       "      <td>0</td>\n",
       "      <td>0</td>\n",
       "      <td>1</td>\n",
       "      <td>0</td>\n",
       "      <td>0</td>\n",
       "      <td>...</td>\n",
       "      <td>0</td>\n",
       "      <td>0</td>\n",
       "      <td>0</td>\n",
       "      <td>0</td>\n",
       "      <td>0</td>\n",
       "      <td>0</td>\n",
       "      <td>0</td>\n",
       "      <td>1</td>\n",
       "      <td>0</td>\n",
       "      <td>1</td>\n",
       "    </tr>\n",
       "    <tr>\n",
       "      <th>2</th>\n",
       "      <td>10 Things I Hate About You</td>\n",
       "      <td>b'TEN THINGS I HATE ABOUT YOU\\r\\n\\r\\nwritten b...</td>\n",
       "      <td>[Comedy, Romance, Drama]</td>\n",
       "      <td>3</td>\n",
       "      <td>0</td>\n",
       "      <td>0</td>\n",
       "      <td>0</td>\n",
       "      <td>1</td>\n",
       "      <td>0</td>\n",
       "      <td>0</td>\n",
       "      <td>...</td>\n",
       "      <td>0</td>\n",
       "      <td>0</td>\n",
       "      <td>0</td>\n",
       "      <td>0</td>\n",
       "      <td>0</td>\n",
       "      <td>0</td>\n",
       "      <td>0</td>\n",
       "      <td>1</td>\n",
       "      <td>0</td>\n",
       "      <td>1</td>\n",
       "    </tr>\n",
       "    <tr>\n",
       "      <th>3</th>\n",
       "      <td>10000 B C</td>\n",
       "      <td>b\"10,000 B.C.\\r\\nby\\r\\nRoland Emmerich &amp; Haral...</td>\n",
       "      <td>[Adventure, Action, Drama, Fantasy]</td>\n",
       "      <td>4</td>\n",
       "      <td>0</td>\n",
       "      <td>0</td>\n",
       "      <td>0</td>\n",
       "      <td>0</td>\n",
       "      <td>0</td>\n",
       "      <td>0</td>\n",
       "      <td>...</td>\n",
       "      <td>1</td>\n",
       "      <td>0</td>\n",
       "      <td>0</td>\n",
       "      <td>1</td>\n",
       "      <td>0</td>\n",
       "      <td>0</td>\n",
       "      <td>0</td>\n",
       "      <td>0</td>\n",
       "      <td>1</td>\n",
       "      <td>1</td>\n",
       "    </tr>\n",
       "    <tr>\n",
       "      <th>4</th>\n",
       "      <td>12 And Holding</td>\n",
       "      <td>b'12 AND HOLDING\\r\\n\\r\\nWritten by\\r\\n\\r\\nAnth...</td>\n",
       "      <td>[Drama]</td>\n",
       "      <td>1</td>\n",
       "      <td>0</td>\n",
       "      <td>0</td>\n",
       "      <td>0</td>\n",
       "      <td>0</td>\n",
       "      <td>0</td>\n",
       "      <td>0</td>\n",
       "      <td>...</td>\n",
       "      <td>0</td>\n",
       "      <td>0</td>\n",
       "      <td>0</td>\n",
       "      <td>0</td>\n",
       "      <td>0</td>\n",
       "      <td>0</td>\n",
       "      <td>0</td>\n",
       "      <td>0</td>\n",
       "      <td>0</td>\n",
       "      <td>1</td>\n",
       "    </tr>\n",
       "    <tr>\n",
       "      <th>...</th>\n",
       "      <td>...</td>\n",
       "      <td>...</td>\n",
       "      <td>...</td>\n",
       "      <td>...</td>\n",
       "      <td>...</td>\n",
       "      <td>...</td>\n",
       "      <td>...</td>\n",
       "      <td>...</td>\n",
       "      <td>...</td>\n",
       "      <td>...</td>\n",
       "      <td>...</td>\n",
       "      <td>...</td>\n",
       "      <td>...</td>\n",
       "      <td>...</td>\n",
       "      <td>...</td>\n",
       "      <td>...</td>\n",
       "      <td>...</td>\n",
       "      <td>...</td>\n",
       "      <td>...</td>\n",
       "      <td>...</td>\n",
       "      <td>...</td>\n",
       "    </tr>\n",
       "    <tr>\n",
       "      <th>2120</th>\n",
       "      <td>Zodiac</td>\n",
       "      <td>b'CHRONICLES\\r\\nby\\r\\nJamie Vanderbilt\\r\\n\\r\\n...</td>\n",
       "      <td>[Crime, Drama, Mystery, Thriller]</td>\n",
       "      <td>4</td>\n",
       "      <td>0</td>\n",
       "      <td>0</td>\n",
       "      <td>1</td>\n",
       "      <td>0</td>\n",
       "      <td>0</td>\n",
       "      <td>1</td>\n",
       "      <td>...</td>\n",
       "      <td>0</td>\n",
       "      <td>0</td>\n",
       "      <td>0</td>\n",
       "      <td>0</td>\n",
       "      <td>1</td>\n",
       "      <td>0</td>\n",
       "      <td>0</td>\n",
       "      <td>0</td>\n",
       "      <td>0</td>\n",
       "      <td>1</td>\n",
       "    </tr>\n",
       "    <tr>\n",
       "      <th>2121</th>\n",
       "      <td>Zombieland</td>\n",
       "      <td>b'\\xef\\x81\\x9a\\xef\\x81\\x8f\\xef\\x81\\x8d\\xef\\x81...</td>\n",
       "      <td>[Comedy, Horror]</td>\n",
       "      <td>2</td>\n",
       "      <td>0</td>\n",
       "      <td>0</td>\n",
       "      <td>0</td>\n",
       "      <td>0</td>\n",
       "      <td>0</td>\n",
       "      <td>0</td>\n",
       "      <td>...</td>\n",
       "      <td>0</td>\n",
       "      <td>1</td>\n",
       "      <td>0</td>\n",
       "      <td>0</td>\n",
       "      <td>0</td>\n",
       "      <td>0</td>\n",
       "      <td>0</td>\n",
       "      <td>1</td>\n",
       "      <td>0</td>\n",
       "      <td>0</td>\n",
       "    </tr>\n",
       "    <tr>\n",
       "      <th>2122</th>\n",
       "      <td>Zookeeper</td>\n",
       "      <td>b\"The Zoo Keeper\\r\\nby\\r\\nJay Scherick &amp; David...</td>\n",
       "      <td>[Comedy, Romance, Family]</td>\n",
       "      <td>3</td>\n",
       "      <td>0</td>\n",
       "      <td>0</td>\n",
       "      <td>0</td>\n",
       "      <td>1</td>\n",
       "      <td>0</td>\n",
       "      <td>0</td>\n",
       "      <td>...</td>\n",
       "      <td>0</td>\n",
       "      <td>0</td>\n",
       "      <td>0</td>\n",
       "      <td>0</td>\n",
       "      <td>0</td>\n",
       "      <td>1</td>\n",
       "      <td>0</td>\n",
       "      <td>1</td>\n",
       "      <td>0</td>\n",
       "      <td>0</td>\n",
       "    </tr>\n",
       "    <tr>\n",
       "      <th>2123</th>\n",
       "      <td>Zootopia</td>\n",
       "      <td>b\"ZOOTOPIA\\r\\n\\r\\nOriginal Screenplay by\\r\\nJa...</td>\n",
       "      <td>[Animation, Adventure, Family, Comedy]</td>\n",
       "      <td>4</td>\n",
       "      <td>0</td>\n",
       "      <td>0</td>\n",
       "      <td>0</td>\n",
       "      <td>0</td>\n",
       "      <td>1</td>\n",
       "      <td>0</td>\n",
       "      <td>...</td>\n",
       "      <td>0</td>\n",
       "      <td>0</td>\n",
       "      <td>0</td>\n",
       "      <td>0</td>\n",
       "      <td>0</td>\n",
       "      <td>1</td>\n",
       "      <td>0</td>\n",
       "      <td>1</td>\n",
       "      <td>1</td>\n",
       "      <td>0</td>\n",
       "    </tr>\n",
       "    <tr>\n",
       "      <th>2124</th>\n",
       "      <td>Zulu Dawn</td>\n",
       "      <td>b'Zulu Dawn\\r\\n\\r\\n1. SCRIPT APPEARS ON BLACK ...</td>\n",
       "      <td>[Adventure, Drama, History, War]</td>\n",
       "      <td>4</td>\n",
       "      <td>1</td>\n",
       "      <td>0</td>\n",
       "      <td>0</td>\n",
       "      <td>0</td>\n",
       "      <td>0</td>\n",
       "      <td>0</td>\n",
       "      <td>...</td>\n",
       "      <td>0</td>\n",
       "      <td>0</td>\n",
       "      <td>0</td>\n",
       "      <td>0</td>\n",
       "      <td>0</td>\n",
       "      <td>0</td>\n",
       "      <td>0</td>\n",
       "      <td>0</td>\n",
       "      <td>1</td>\n",
       "      <td>1</td>\n",
       "    </tr>\n",
       "  </tbody>\n",
       "</table>\n",
       "<p>1968 rows × 22 columns</p>\n",
       "</div>"
      ],
      "text/plain": [
       "                            title  \\\n",
       "0                          Domino   \n",
       "1                      Knocked Up   \n",
       "2     10 Things I Hate About You    \n",
       "3                      10000 B C    \n",
       "4                 12 And Holding    \n",
       "...                           ...   \n",
       "2120                       Zodiac   \n",
       "2121                   Zombieland   \n",
       "2122                    Zookeeper   \n",
       "2123                     Zootopia   \n",
       "2124                    Zulu Dawn   \n",
       "\n",
       "                                                   text  \\\n",
       "0     b'D      O       M       I       N       O\\r\\n...   \n",
       "1     b'KNOCKED UP\\r\\n\\r\\nWritten by\\r\\n\\r\\nJudd Apa...   \n",
       "2     b'TEN THINGS I HATE ABOUT YOU\\r\\n\\r\\nwritten b...   \n",
       "3     b\"10,000 B.C.\\r\\nby\\r\\nRoland Emmerich & Haral...   \n",
       "4     b'12 AND HOLDING\\r\\n\\r\\nWritten by\\r\\n\\r\\nAnth...   \n",
       "...                                                 ...   \n",
       "2120  b'CHRONICLES\\r\\nby\\r\\nJamie Vanderbilt\\r\\n\\r\\n...   \n",
       "2121  b'\\xef\\x81\\x9a\\xef\\x81\\x8f\\xef\\x81\\x8d\\xef\\x81...   \n",
       "2122  b\"The Zoo Keeper\\r\\nby\\r\\nJay Scherick & David...   \n",
       "2123  b\"ZOOTOPIA\\r\\n\\r\\nOriginal Screenplay by\\r\\nJa...   \n",
       "2124  b'Zulu Dawn\\r\\n\\r\\n1. SCRIPT APPEARS ON BLACK ...   \n",
       "\n",
       "                                       genre  genre_amount  History  Western  \\\n",
       "0                  [Thriller, Action, Crime]             3        0        0   \n",
       "1                   [Comedy, Romance, Drama]             3        0        0   \n",
       "2                   [Comedy, Romance, Drama]             3        0        0   \n",
       "3        [Adventure, Action, Drama, Fantasy]             4        0        0   \n",
       "4                                    [Drama]             1        0        0   \n",
       "...                                      ...           ...      ...      ...   \n",
       "2120       [Crime, Drama, Mystery, Thriller]             4        0        0   \n",
       "2121                        [Comedy, Horror]             2        0        0   \n",
       "2122               [Comedy, Romance, Family]             3        0        0   \n",
       "2123  [Animation, Adventure, Family, Comedy]             4        0        0   \n",
       "2124        [Adventure, Drama, History, War]             4        1        0   \n",
       "\n",
       "      Crime  Romance  Animation  Thriller  ...  Action  Horror  SciFi  \\\n",
       "0         1        0          0         1  ...       1       0      0   \n",
       "1         0        1          0         0  ...       0       0      0   \n",
       "2         0        1          0         0  ...       0       0      0   \n",
       "3         0        0          0         0  ...       1       0      0   \n",
       "4         0        0          0         0  ...       0       0      0   \n",
       "...     ...      ...        ...       ...  ...     ...     ...    ...   \n",
       "2120      1        0          0         1  ...       0       0      0   \n",
       "2121      0        0          0         0  ...       0       1      0   \n",
       "2122      0        1          0         0  ...       0       0      0   \n",
       "2123      0        0          1         0  ...       0       0      0   \n",
       "2124      0        0          0         0  ...       0       0      0   \n",
       "\n",
       "      Fantasy  Mystery  Family  Music  Comedy  Adventure  Drama  \n",
       "0           0        0       0      0       0          0      0  \n",
       "1           0        0       0      0       1          0      1  \n",
       "2           0        0       0      0       1          0      1  \n",
       "3           1        0       0      0       0          1      1  \n",
       "4           0        0       0      0       0          0      1  \n",
       "...       ...      ...     ...    ...     ...        ...    ...  \n",
       "2120        0        1       0      0       0          0      1  \n",
       "2121        0        0       0      0       1          0      0  \n",
       "2122        0        0       1      0       1          0      0  \n",
       "2123        0        0       1      0       1          1      0  \n",
       "2124        0        0       0      0       0          1      1  \n",
       "\n",
       "[1968 rows x 22 columns]"
      ]
     },
     "execution_count": 12,
     "metadata": {},
     "output_type": "execute_result"
    }
   ],
   "source": [
    "good_data"
   ]
  },
  {
   "cell_type": "code",
   "execution_count": 27,
   "metadata": {},
   "outputs": [],
   "source": [
    "tp_wnl_lem = TextPreprocessor(activator_type='wnl', lem_or_stem='lem')\n",
    "tp_wb_lem = TextPreprocessor(activator_type='wb', lem_or_stem='lem')\n",
    "tp_pt_lem = TextPreprocessor(activator_type='pt', lem_or_stem='lem')\n",
    "tp_ps_stem = TextPreprocessor(activator_type='ps', lem_or_stem='stem')\n",
    "tp_ls_stem = TextPreprocessor(activator_type='ls', lem_or_stem='stem')\n",
    "tp_ss_stem = TextPreprocessor(activator_type='ss', lem_or_stem='stem')"
   ]
  },
  {
   "cell_type": "code",
   "execution_count": 14,
   "metadata": {},
   "outputs": [
    {
     "name": "stderr",
     "output_type": "stream",
     "text": [
      "C:\\Users\\mikey\\anaconda3\\envs\\contest_env\\lib\\site-packages\\pandas\\core\\frame.py:3607: SettingWithCopyWarning: \n",
      "A value is trying to be set on a copy of a slice from a DataFrame.\n",
      "Try using .loc[row_indexer,col_indexer] = value instead\n",
      "\n",
      "See the caveats in the documentation: https://pandas.pydata.org/pandas-docs/stable/user_guide/indexing.html#returning-a-view-versus-a-copy\n",
      "  self._set_item(key, value)\n"
     ]
    }
   ],
   "source": [
    "good_data['wnl_lem'] = good_data['text'].apply(lambda x: tp_wnl_lem.lem_process_doc(x))"
   ]
  },
  {
   "cell_type": "code",
   "execution_count": 15,
   "metadata": {},
   "outputs": [],
   "source": [
    "good_data['wb_lem'] = good_data['text'].apply(lambda x: tp_wb_lem.lem_process_doc(x))"
   ]
  },
  {
   "cell_type": "code",
   "execution_count": 30,
   "metadata": {},
   "outputs": [
    {
     "name": "stderr",
     "output_type": "stream",
     "text": [
      "C:\\Users\\mikey\\anaconda3\\envs\\contest_env\\lib\\site-packages\\pandas\\core\\frame.py:3607: SettingWithCopyWarning: \n",
      "A value is trying to be set on a copy of a slice from a DataFrame.\n",
      "Try using .loc[row_indexer,col_indexer] = value instead\n",
      "\n",
      "See the caveats in the documentation: https://pandas.pydata.org/pandas-docs/stable/user_guide/indexing.html#returning-a-view-versus-a-copy\n",
      "  self._set_item(key, value)\n"
     ]
    }
   ],
   "source": [
    "good_data['pt_lem'] = good_data['text'].apply(lambda x: tp_pt_lem.lem_process_doc(x))"
   ]
  },
  {
   "cell_type": "code",
   "execution_count": 33,
   "metadata": {},
   "outputs": [
    {
     "ename": "NameError",
     "evalue": "name 'PorterStemmer' is not defined",
     "output_type": "error",
     "traceback": [
      "\u001b[1;31m---------------------------------------------------------------------------\u001b[0m",
      "\u001b[1;31mNameError\u001b[0m                                 Traceback (most recent call last)",
      "\u001b[1;32mc:\\Users\\mikey\\Documents\\projects\\capstone\\data_preprocessing_2.ipynb Cell 17'\u001b[0m in \u001b[0;36m<cell line: 1>\u001b[1;34m()\u001b[0m\n\u001b[1;32m----> <a href='vscode-notebook-cell:/c%3A/Users/mikey/Documents/projects/capstone/data_preprocessing_2.ipynb#ch0000017?line=0'>1</a>\u001b[0m good_data[\u001b[39m'\u001b[39m\u001b[39mps_stem\u001b[39m\u001b[39m'\u001b[39m] \u001b[39m=\u001b[39m good_data[\u001b[39m'\u001b[39;49m\u001b[39mtext\u001b[39;49m\u001b[39m'\u001b[39;49m]\u001b[39m.\u001b[39;49mapply(\u001b[39mlambda\u001b[39;49;00m x: tp_ps_stem\u001b[39m.\u001b[39;49mstem_process_doc(x))\n",
      "File \u001b[1;32m~\\anaconda3\\envs\\contest_env\\lib\\site-packages\\pandas\\core\\series.py:4356\u001b[0m, in \u001b[0;36mSeries.apply\u001b[1;34m(self, func, convert_dtype, args, **kwargs)\u001b[0m\n\u001b[0;32m   <a href='file:///c%3A/Users/mikey/anaconda3/envs/contest_env/lib/site-packages/pandas/core/series.py?line=4245'>4246</a>\u001b[0m \u001b[39mdef\u001b[39;00m \u001b[39mapply\u001b[39m(\n\u001b[0;32m   <a href='file:///c%3A/Users/mikey/anaconda3/envs/contest_env/lib/site-packages/pandas/core/series.py?line=4246'>4247</a>\u001b[0m     \u001b[39mself\u001b[39m,\n\u001b[0;32m   <a href='file:///c%3A/Users/mikey/anaconda3/envs/contest_env/lib/site-packages/pandas/core/series.py?line=4247'>4248</a>\u001b[0m     func: AggFuncType,\n\u001b[1;32m   (...)\u001b[0m\n\u001b[0;32m   <a href='file:///c%3A/Users/mikey/anaconda3/envs/contest_env/lib/site-packages/pandas/core/series.py?line=4250'>4251</a>\u001b[0m     \u001b[39m*\u001b[39m\u001b[39m*\u001b[39mkwargs,\n\u001b[0;32m   <a href='file:///c%3A/Users/mikey/anaconda3/envs/contest_env/lib/site-packages/pandas/core/series.py?line=4251'>4252</a>\u001b[0m ) \u001b[39m-\u001b[39m\u001b[39m>\u001b[39m FrameOrSeriesUnion:\n\u001b[0;32m   <a href='file:///c%3A/Users/mikey/anaconda3/envs/contest_env/lib/site-packages/pandas/core/series.py?line=4252'>4253</a>\u001b[0m     \u001b[39m\"\"\"\u001b[39;00m\n\u001b[0;32m   <a href='file:///c%3A/Users/mikey/anaconda3/envs/contest_env/lib/site-packages/pandas/core/series.py?line=4253'>4254</a>\u001b[0m \u001b[39m    Invoke function on values of Series.\u001b[39;00m\n\u001b[0;32m   <a href='file:///c%3A/Users/mikey/anaconda3/envs/contest_env/lib/site-packages/pandas/core/series.py?line=4254'>4255</a>\u001b[0m \n\u001b[1;32m   (...)\u001b[0m\n\u001b[0;32m   <a href='file:///c%3A/Users/mikey/anaconda3/envs/contest_env/lib/site-packages/pandas/core/series.py?line=4353'>4354</a>\u001b[0m \u001b[39m    dtype: float64\u001b[39;00m\n\u001b[0;32m   <a href='file:///c%3A/Users/mikey/anaconda3/envs/contest_env/lib/site-packages/pandas/core/series.py?line=4354'>4355</a>\u001b[0m \u001b[39m    \"\"\"\u001b[39;00m\n\u001b[1;32m-> <a href='file:///c%3A/Users/mikey/anaconda3/envs/contest_env/lib/site-packages/pandas/core/series.py?line=4355'>4356</a>\u001b[0m     \u001b[39mreturn\u001b[39;00m SeriesApply(\u001b[39mself\u001b[39;49m, func, convert_dtype, args, kwargs)\u001b[39m.\u001b[39;49mapply()\n",
      "File \u001b[1;32m~\\anaconda3\\envs\\contest_env\\lib\\site-packages\\pandas\\core\\apply.py:1036\u001b[0m, in \u001b[0;36mSeriesApply.apply\u001b[1;34m(self)\u001b[0m\n\u001b[0;32m   <a href='file:///c%3A/Users/mikey/anaconda3/envs/contest_env/lib/site-packages/pandas/core/apply.py?line=1031'>1032</a>\u001b[0m \u001b[39mif\u001b[39;00m \u001b[39misinstance\u001b[39m(\u001b[39mself\u001b[39m\u001b[39m.\u001b[39mf, \u001b[39mstr\u001b[39m):\n\u001b[0;32m   <a href='file:///c%3A/Users/mikey/anaconda3/envs/contest_env/lib/site-packages/pandas/core/apply.py?line=1032'>1033</a>\u001b[0m     \u001b[39m# if we are a string, try to dispatch\u001b[39;00m\n\u001b[0;32m   <a href='file:///c%3A/Users/mikey/anaconda3/envs/contest_env/lib/site-packages/pandas/core/apply.py?line=1033'>1034</a>\u001b[0m     \u001b[39mreturn\u001b[39;00m \u001b[39mself\u001b[39m\u001b[39m.\u001b[39mapply_str()\n\u001b[1;32m-> <a href='file:///c%3A/Users/mikey/anaconda3/envs/contest_env/lib/site-packages/pandas/core/apply.py?line=1035'>1036</a>\u001b[0m \u001b[39mreturn\u001b[39;00m \u001b[39mself\u001b[39;49m\u001b[39m.\u001b[39;49mapply_standard()\n",
      "File \u001b[1;32m~\\anaconda3\\envs\\contest_env\\lib\\site-packages\\pandas\\core\\apply.py:1092\u001b[0m, in \u001b[0;36mSeriesApply.apply_standard\u001b[1;34m(self)\u001b[0m\n\u001b[0;32m   <a href='file:///c%3A/Users/mikey/anaconda3/envs/contest_env/lib/site-packages/pandas/core/apply.py?line=1085'>1086</a>\u001b[0m         values \u001b[39m=\u001b[39m obj\u001b[39m.\u001b[39mastype(\u001b[39mobject\u001b[39m)\u001b[39m.\u001b[39m_values\n\u001b[0;32m   <a href='file:///c%3A/Users/mikey/anaconda3/envs/contest_env/lib/site-packages/pandas/core/apply.py?line=1086'>1087</a>\u001b[0m         \u001b[39m# error: Argument 2 to \"map_infer\" has incompatible type\u001b[39;00m\n\u001b[0;32m   <a href='file:///c%3A/Users/mikey/anaconda3/envs/contest_env/lib/site-packages/pandas/core/apply.py?line=1087'>1088</a>\u001b[0m         \u001b[39m# \"Union[Callable[..., Any], str, List[Union[Callable[..., Any], str]],\u001b[39;00m\n\u001b[0;32m   <a href='file:///c%3A/Users/mikey/anaconda3/envs/contest_env/lib/site-packages/pandas/core/apply.py?line=1088'>1089</a>\u001b[0m         \u001b[39m# Dict[Hashable, Union[Union[Callable[..., Any], str],\u001b[39;00m\n\u001b[0;32m   <a href='file:///c%3A/Users/mikey/anaconda3/envs/contest_env/lib/site-packages/pandas/core/apply.py?line=1089'>1090</a>\u001b[0m         \u001b[39m# List[Union[Callable[..., Any], str]]]]]\"; expected\u001b[39;00m\n\u001b[0;32m   <a href='file:///c%3A/Users/mikey/anaconda3/envs/contest_env/lib/site-packages/pandas/core/apply.py?line=1090'>1091</a>\u001b[0m         \u001b[39m# \"Callable[[Any], Any]\"\u001b[39;00m\n\u001b[1;32m-> <a href='file:///c%3A/Users/mikey/anaconda3/envs/contest_env/lib/site-packages/pandas/core/apply.py?line=1091'>1092</a>\u001b[0m         mapped \u001b[39m=\u001b[39m lib\u001b[39m.\u001b[39;49mmap_infer(\n\u001b[0;32m   <a href='file:///c%3A/Users/mikey/anaconda3/envs/contest_env/lib/site-packages/pandas/core/apply.py?line=1092'>1093</a>\u001b[0m             values,\n\u001b[0;32m   <a href='file:///c%3A/Users/mikey/anaconda3/envs/contest_env/lib/site-packages/pandas/core/apply.py?line=1093'>1094</a>\u001b[0m             f,  \u001b[39m# type: ignore[arg-type]\u001b[39;49;00m\n\u001b[0;32m   <a href='file:///c%3A/Users/mikey/anaconda3/envs/contest_env/lib/site-packages/pandas/core/apply.py?line=1094'>1095</a>\u001b[0m             convert\u001b[39m=\u001b[39;49m\u001b[39mself\u001b[39;49m\u001b[39m.\u001b[39;49mconvert_dtype,\n\u001b[0;32m   <a href='file:///c%3A/Users/mikey/anaconda3/envs/contest_env/lib/site-packages/pandas/core/apply.py?line=1095'>1096</a>\u001b[0m         )\n\u001b[0;32m   <a href='file:///c%3A/Users/mikey/anaconda3/envs/contest_env/lib/site-packages/pandas/core/apply.py?line=1097'>1098</a>\u001b[0m \u001b[39mif\u001b[39;00m \u001b[39mlen\u001b[39m(mapped) \u001b[39mand\u001b[39;00m \u001b[39misinstance\u001b[39m(mapped[\u001b[39m0\u001b[39m], ABCSeries):\n\u001b[0;32m   <a href='file:///c%3A/Users/mikey/anaconda3/envs/contest_env/lib/site-packages/pandas/core/apply.py?line=1098'>1099</a>\u001b[0m     \u001b[39m# GH 25959 use pd.array instead of tolist\u001b[39;00m\n\u001b[0;32m   <a href='file:///c%3A/Users/mikey/anaconda3/envs/contest_env/lib/site-packages/pandas/core/apply.py?line=1099'>1100</a>\u001b[0m     \u001b[39m# so extension arrays can be used\u001b[39;00m\n\u001b[0;32m   <a href='file:///c%3A/Users/mikey/anaconda3/envs/contest_env/lib/site-packages/pandas/core/apply.py?line=1100'>1101</a>\u001b[0m     \u001b[39mreturn\u001b[39;00m obj\u001b[39m.\u001b[39m_constructor_expanddim(pd_array(mapped), index\u001b[39m=\u001b[39mobj\u001b[39m.\u001b[39mindex)\n",
      "File \u001b[1;32m~\\anaconda3\\envs\\contest_env\\lib\\site-packages\\pandas\\_libs\\lib.pyx:2859\u001b[0m, in \u001b[0;36mpandas._libs.lib.map_infer\u001b[1;34m()\u001b[0m\n",
      "\u001b[1;32mc:\\Users\\mikey\\Documents\\projects\\capstone\\data_preprocessing_2.ipynb Cell 17'\u001b[0m in \u001b[0;36m<lambda>\u001b[1;34m(x)\u001b[0m\n\u001b[1;32m----> <a href='vscode-notebook-cell:/c%3A/Users/mikey/Documents/projects/capstone/data_preprocessing_2.ipynb#ch0000017?line=0'>1</a>\u001b[0m good_data[\u001b[39m'\u001b[39m\u001b[39mps_stem\u001b[39m\u001b[39m'\u001b[39m] \u001b[39m=\u001b[39m good_data[\u001b[39m'\u001b[39m\u001b[39mtext\u001b[39m\u001b[39m'\u001b[39m]\u001b[39m.\u001b[39mapply(\u001b[39mlambda\u001b[39;00m x: tp_ps_stem\u001b[39m.\u001b[39;49mstem_process_doc(x))\n",
      "File \u001b[1;32mc:\\Users\\mikey\\Documents\\projects\\capstone\\preprocessing.py:113\u001b[0m, in \u001b[0;36mTextPreprocessor.stem_process_doc\u001b[1;34m(self, doc)\u001b[0m\n\u001b[0;32m    <a href='file:///c%3A/Users/mikey/Documents/projects/capstone/preprocessing.py?line=108'>109</a>\u001b[0m doc_norm \u001b[39m=\u001b[39m [tok \u001b[39mfor\u001b[39;00m tok \u001b[39min\u001b[39;00m word_tokenize(doc_lower) \u001b[39mif\u001b[39;00m ((tok\u001b[39m.\u001b[39misalpha()) \u001b[39m&\u001b[39m (tok \u001b[39mnot\u001b[39;00m \u001b[39min\u001b[39;00m stop_words_modified))]\n\u001b[0;32m    <a href='file:///c%3A/Users/mikey/Documents/projects/capstone/preprocessing.py?line=110'>111</a>\u001b[0m \u001b[39mif\u001b[39;00m \u001b[39mself\u001b[39m\u001b[39m.\u001b[39mactivator_type \u001b[39m==\u001b[39m \u001b[39m'\u001b[39m\u001b[39mps\u001b[39m\u001b[39m'\u001b[39m:\n\u001b[1;32m--> <a href='file:///c%3A/Users/mikey/Documents/projects/capstone/preprocessing.py?line=112'>113</a>\u001b[0m     ps \u001b[39m=\u001b[39m PorterStemmer()\n\u001b[0;32m    <a href='file:///c%3A/Users/mikey/Documents/projects/capstone/preprocessing.py?line=113'>114</a>\u001b[0m     stem_doc \u001b[39m=\u001b[39m [ps\u001b[39m.\u001b[39mstem(x) \u001b[39mfor\u001b[39;00m x \u001b[39min\u001b[39;00m doc_norm]\n\u001b[0;32m    <a href='file:///c%3A/Users/mikey/Documents/projects/capstone/preprocessing.py?line=114'>115</a>\u001b[0m     \u001b[39mreturn\u001b[39;00m \u001b[39m\"\u001b[39m\u001b[39m \u001b[39m\u001b[39m\"\u001b[39m\u001b[39m.\u001b[39mjoin(stem_doc)\n",
      "\u001b[1;31mNameError\u001b[0m: name 'PorterStemmer' is not defined"
     ]
    }
   ],
   "source": [
    "good_data['ps_stem'] = good_data['text'].apply(lambda x: tp_ps_stem.stem_process_doc(x))"
   ]
  },
  {
   "cell_type": "code",
   "execution_count": 24,
   "metadata": {},
   "outputs": [
    {
     "ename": "NameError",
     "evalue": "name 'LancasterStemmer' is not defined",
     "output_type": "error",
     "traceback": [
      "\u001b[1;31m---------------------------------------------------------------------------\u001b[0m",
      "\u001b[1;31mNameError\u001b[0m                                 Traceback (most recent call last)",
      "\u001b[1;32mc:\\Users\\mikey\\Documents\\projects\\capstone\\data_preprocessing_2.ipynb Cell 18'\u001b[0m in \u001b[0;36m<cell line: 1>\u001b[1;34m()\u001b[0m\n\u001b[1;32m----> <a href='vscode-notebook-cell:/c%3A/Users/mikey/Documents/projects/capstone/data_preprocessing_2.ipynb#ch0000018?line=0'>1</a>\u001b[0m good_data[\u001b[39m'\u001b[39m\u001b[39mls_stem\u001b[39m\u001b[39m'\u001b[39m] \u001b[39m=\u001b[39m good_data[\u001b[39m'\u001b[39;49m\u001b[39mtext\u001b[39;49m\u001b[39m'\u001b[39;49m]\u001b[39m.\u001b[39;49mapply(\u001b[39mlambda\u001b[39;49;00m x: tp_ls_stem\u001b[39m.\u001b[39;49mstem_process_doc(x))\n",
      "File \u001b[1;32m~\\anaconda3\\envs\\contest_env\\lib\\site-packages\\pandas\\core\\series.py:4356\u001b[0m, in \u001b[0;36mSeries.apply\u001b[1;34m(self, func, convert_dtype, args, **kwargs)\u001b[0m\n\u001b[0;32m   <a href='file:///c%3A/Users/mikey/anaconda3/envs/contest_env/lib/site-packages/pandas/core/series.py?line=4245'>4246</a>\u001b[0m \u001b[39mdef\u001b[39;00m \u001b[39mapply\u001b[39m(\n\u001b[0;32m   <a href='file:///c%3A/Users/mikey/anaconda3/envs/contest_env/lib/site-packages/pandas/core/series.py?line=4246'>4247</a>\u001b[0m     \u001b[39mself\u001b[39m,\n\u001b[0;32m   <a href='file:///c%3A/Users/mikey/anaconda3/envs/contest_env/lib/site-packages/pandas/core/series.py?line=4247'>4248</a>\u001b[0m     func: AggFuncType,\n\u001b[1;32m   (...)\u001b[0m\n\u001b[0;32m   <a href='file:///c%3A/Users/mikey/anaconda3/envs/contest_env/lib/site-packages/pandas/core/series.py?line=4250'>4251</a>\u001b[0m     \u001b[39m*\u001b[39m\u001b[39m*\u001b[39mkwargs,\n\u001b[0;32m   <a href='file:///c%3A/Users/mikey/anaconda3/envs/contest_env/lib/site-packages/pandas/core/series.py?line=4251'>4252</a>\u001b[0m ) \u001b[39m-\u001b[39m\u001b[39m>\u001b[39m FrameOrSeriesUnion:\n\u001b[0;32m   <a href='file:///c%3A/Users/mikey/anaconda3/envs/contest_env/lib/site-packages/pandas/core/series.py?line=4252'>4253</a>\u001b[0m     \u001b[39m\"\"\"\u001b[39;00m\n\u001b[0;32m   <a href='file:///c%3A/Users/mikey/anaconda3/envs/contest_env/lib/site-packages/pandas/core/series.py?line=4253'>4254</a>\u001b[0m \u001b[39m    Invoke function on values of Series.\u001b[39;00m\n\u001b[0;32m   <a href='file:///c%3A/Users/mikey/anaconda3/envs/contest_env/lib/site-packages/pandas/core/series.py?line=4254'>4255</a>\u001b[0m \n\u001b[1;32m   (...)\u001b[0m\n\u001b[0;32m   <a href='file:///c%3A/Users/mikey/anaconda3/envs/contest_env/lib/site-packages/pandas/core/series.py?line=4353'>4354</a>\u001b[0m \u001b[39m    dtype: float64\u001b[39;00m\n\u001b[0;32m   <a href='file:///c%3A/Users/mikey/anaconda3/envs/contest_env/lib/site-packages/pandas/core/series.py?line=4354'>4355</a>\u001b[0m \u001b[39m    \"\"\"\u001b[39;00m\n\u001b[1;32m-> <a href='file:///c%3A/Users/mikey/anaconda3/envs/contest_env/lib/site-packages/pandas/core/series.py?line=4355'>4356</a>\u001b[0m     \u001b[39mreturn\u001b[39;00m SeriesApply(\u001b[39mself\u001b[39;49m, func, convert_dtype, args, kwargs)\u001b[39m.\u001b[39;49mapply()\n",
      "File \u001b[1;32m~\\anaconda3\\envs\\contest_env\\lib\\site-packages\\pandas\\core\\apply.py:1036\u001b[0m, in \u001b[0;36mSeriesApply.apply\u001b[1;34m(self)\u001b[0m\n\u001b[0;32m   <a href='file:///c%3A/Users/mikey/anaconda3/envs/contest_env/lib/site-packages/pandas/core/apply.py?line=1031'>1032</a>\u001b[0m \u001b[39mif\u001b[39;00m \u001b[39misinstance\u001b[39m(\u001b[39mself\u001b[39m\u001b[39m.\u001b[39mf, \u001b[39mstr\u001b[39m):\n\u001b[0;32m   <a href='file:///c%3A/Users/mikey/anaconda3/envs/contest_env/lib/site-packages/pandas/core/apply.py?line=1032'>1033</a>\u001b[0m     \u001b[39m# if we are a string, try to dispatch\u001b[39;00m\n\u001b[0;32m   <a href='file:///c%3A/Users/mikey/anaconda3/envs/contest_env/lib/site-packages/pandas/core/apply.py?line=1033'>1034</a>\u001b[0m     \u001b[39mreturn\u001b[39;00m \u001b[39mself\u001b[39m\u001b[39m.\u001b[39mapply_str()\n\u001b[1;32m-> <a href='file:///c%3A/Users/mikey/anaconda3/envs/contest_env/lib/site-packages/pandas/core/apply.py?line=1035'>1036</a>\u001b[0m \u001b[39mreturn\u001b[39;00m \u001b[39mself\u001b[39;49m\u001b[39m.\u001b[39;49mapply_standard()\n",
      "File \u001b[1;32m~\\anaconda3\\envs\\contest_env\\lib\\site-packages\\pandas\\core\\apply.py:1092\u001b[0m, in \u001b[0;36mSeriesApply.apply_standard\u001b[1;34m(self)\u001b[0m\n\u001b[0;32m   <a href='file:///c%3A/Users/mikey/anaconda3/envs/contest_env/lib/site-packages/pandas/core/apply.py?line=1085'>1086</a>\u001b[0m         values \u001b[39m=\u001b[39m obj\u001b[39m.\u001b[39mastype(\u001b[39mobject\u001b[39m)\u001b[39m.\u001b[39m_values\n\u001b[0;32m   <a href='file:///c%3A/Users/mikey/anaconda3/envs/contest_env/lib/site-packages/pandas/core/apply.py?line=1086'>1087</a>\u001b[0m         \u001b[39m# error: Argument 2 to \"map_infer\" has incompatible type\u001b[39;00m\n\u001b[0;32m   <a href='file:///c%3A/Users/mikey/anaconda3/envs/contest_env/lib/site-packages/pandas/core/apply.py?line=1087'>1088</a>\u001b[0m         \u001b[39m# \"Union[Callable[..., Any], str, List[Union[Callable[..., Any], str]],\u001b[39;00m\n\u001b[0;32m   <a href='file:///c%3A/Users/mikey/anaconda3/envs/contest_env/lib/site-packages/pandas/core/apply.py?line=1088'>1089</a>\u001b[0m         \u001b[39m# Dict[Hashable, Union[Union[Callable[..., Any], str],\u001b[39;00m\n\u001b[0;32m   <a href='file:///c%3A/Users/mikey/anaconda3/envs/contest_env/lib/site-packages/pandas/core/apply.py?line=1089'>1090</a>\u001b[0m         \u001b[39m# List[Union[Callable[..., Any], str]]]]]\"; expected\u001b[39;00m\n\u001b[0;32m   <a href='file:///c%3A/Users/mikey/anaconda3/envs/contest_env/lib/site-packages/pandas/core/apply.py?line=1090'>1091</a>\u001b[0m         \u001b[39m# \"Callable[[Any], Any]\"\u001b[39;00m\n\u001b[1;32m-> <a href='file:///c%3A/Users/mikey/anaconda3/envs/contest_env/lib/site-packages/pandas/core/apply.py?line=1091'>1092</a>\u001b[0m         mapped \u001b[39m=\u001b[39m lib\u001b[39m.\u001b[39;49mmap_infer(\n\u001b[0;32m   <a href='file:///c%3A/Users/mikey/anaconda3/envs/contest_env/lib/site-packages/pandas/core/apply.py?line=1092'>1093</a>\u001b[0m             values,\n\u001b[0;32m   <a href='file:///c%3A/Users/mikey/anaconda3/envs/contest_env/lib/site-packages/pandas/core/apply.py?line=1093'>1094</a>\u001b[0m             f,  \u001b[39m# type: ignore[arg-type]\u001b[39;49;00m\n\u001b[0;32m   <a href='file:///c%3A/Users/mikey/anaconda3/envs/contest_env/lib/site-packages/pandas/core/apply.py?line=1094'>1095</a>\u001b[0m             convert\u001b[39m=\u001b[39;49m\u001b[39mself\u001b[39;49m\u001b[39m.\u001b[39;49mconvert_dtype,\n\u001b[0;32m   <a href='file:///c%3A/Users/mikey/anaconda3/envs/contest_env/lib/site-packages/pandas/core/apply.py?line=1095'>1096</a>\u001b[0m         )\n\u001b[0;32m   <a href='file:///c%3A/Users/mikey/anaconda3/envs/contest_env/lib/site-packages/pandas/core/apply.py?line=1097'>1098</a>\u001b[0m \u001b[39mif\u001b[39;00m \u001b[39mlen\u001b[39m(mapped) \u001b[39mand\u001b[39;00m \u001b[39misinstance\u001b[39m(mapped[\u001b[39m0\u001b[39m], ABCSeries):\n\u001b[0;32m   <a href='file:///c%3A/Users/mikey/anaconda3/envs/contest_env/lib/site-packages/pandas/core/apply.py?line=1098'>1099</a>\u001b[0m     \u001b[39m# GH 25959 use pd.array instead of tolist\u001b[39;00m\n\u001b[0;32m   <a href='file:///c%3A/Users/mikey/anaconda3/envs/contest_env/lib/site-packages/pandas/core/apply.py?line=1099'>1100</a>\u001b[0m     \u001b[39m# so extension arrays can be used\u001b[39;00m\n\u001b[0;32m   <a href='file:///c%3A/Users/mikey/anaconda3/envs/contest_env/lib/site-packages/pandas/core/apply.py?line=1100'>1101</a>\u001b[0m     \u001b[39mreturn\u001b[39;00m obj\u001b[39m.\u001b[39m_constructor_expanddim(pd_array(mapped), index\u001b[39m=\u001b[39mobj\u001b[39m.\u001b[39mindex)\n",
      "File \u001b[1;32m~\\anaconda3\\envs\\contest_env\\lib\\site-packages\\pandas\\_libs\\lib.pyx:2859\u001b[0m, in \u001b[0;36mpandas._libs.lib.map_infer\u001b[1;34m()\u001b[0m\n",
      "\u001b[1;32mc:\\Users\\mikey\\Documents\\projects\\capstone\\data_preprocessing_2.ipynb Cell 18'\u001b[0m in \u001b[0;36m<lambda>\u001b[1;34m(x)\u001b[0m\n\u001b[1;32m----> <a href='vscode-notebook-cell:/c%3A/Users/mikey/Documents/projects/capstone/data_preprocessing_2.ipynb#ch0000018?line=0'>1</a>\u001b[0m good_data[\u001b[39m'\u001b[39m\u001b[39mls_stem\u001b[39m\u001b[39m'\u001b[39m] \u001b[39m=\u001b[39m good_data[\u001b[39m'\u001b[39m\u001b[39mtext\u001b[39m\u001b[39m'\u001b[39m]\u001b[39m.\u001b[39mapply(\u001b[39mlambda\u001b[39;00m x: tp_ls_stem\u001b[39m.\u001b[39;49mstem_process_doc(x))\n",
      "File \u001b[1;32mc:\\Users\\mikey\\Documents\\projects\\capstone\\preprocessing.py:119\u001b[0m, in \u001b[0;36mTextPreprocessor.stem_process_doc\u001b[1;34m(self, doc)\u001b[0m\n\u001b[0;32m    <a href='file:///c%3A/Users/mikey/Documents/projects/capstone/preprocessing.py?line=114'>115</a>\u001b[0m     \u001b[39mreturn\u001b[39;00m \u001b[39m\"\u001b[39m\u001b[39m \u001b[39m\u001b[39m\"\u001b[39m\u001b[39m.\u001b[39mjoin(stem_doc)\n\u001b[0;32m    <a href='file:///c%3A/Users/mikey/Documents/projects/capstone/preprocessing.py?line=116'>117</a>\u001b[0m \u001b[39melif\u001b[39;00m \u001b[39mself\u001b[39m\u001b[39m.\u001b[39mactivator_type \u001b[39m==\u001b[39m \u001b[39m'\u001b[39m\u001b[39mls\u001b[39m\u001b[39m'\u001b[39m:\n\u001b[1;32m--> <a href='file:///c%3A/Users/mikey/Documents/projects/capstone/preprocessing.py?line=118'>119</a>\u001b[0m     ls \u001b[39m=\u001b[39m LancasterStemmer()\n\u001b[0;32m    <a href='file:///c%3A/Users/mikey/Documents/projects/capstone/preprocessing.py?line=119'>120</a>\u001b[0m     stem_doc \u001b[39m=\u001b[39m [ls\u001b[39m.\u001b[39mstem(x) \u001b[39mfor\u001b[39;00m x \u001b[39min\u001b[39;00m doc_norm]\n\u001b[0;32m    <a href='file:///c%3A/Users/mikey/Documents/projects/capstone/preprocessing.py?line=120'>121</a>\u001b[0m     \u001b[39mreturn\u001b[39;00m \u001b[39m\"\u001b[39m\u001b[39m \u001b[39m\u001b[39m\"\u001b[39m\u001b[39m.\u001b[39mjoin(stem_doc)\n",
      "\u001b[1;31mNameError\u001b[0m: name 'LancasterStemmer' is not defined"
     ]
    }
   ],
   "source": [
    "good_data['ls_stem'] = good_data['text'].apply(lambda x: tp_ls_stem.stem_process_doc(x))"
   ]
  },
  {
   "cell_type": "code",
   "execution_count": 25,
   "metadata": {},
   "outputs": [
    {
     "ename": "NameError",
     "evalue": "name 'SnowballStemmer' is not defined",
     "output_type": "error",
     "traceback": [
      "\u001b[1;31m---------------------------------------------------------------------------\u001b[0m",
      "\u001b[1;31mNameError\u001b[0m                                 Traceback (most recent call last)",
      "\u001b[1;32mc:\\Users\\mikey\\Documents\\projects\\capstone\\data_preprocessing_2.ipynb Cell 19'\u001b[0m in \u001b[0;36m<cell line: 1>\u001b[1;34m()\u001b[0m\n\u001b[1;32m----> <a href='vscode-notebook-cell:/c%3A/Users/mikey/Documents/projects/capstone/data_preprocessing_2.ipynb#ch0000019?line=0'>1</a>\u001b[0m good_data[\u001b[39m'\u001b[39m\u001b[39mss_stem\u001b[39m\u001b[39m'\u001b[39m] \u001b[39m=\u001b[39m good_data[\u001b[39m'\u001b[39;49m\u001b[39mtext\u001b[39;49m\u001b[39m'\u001b[39;49m]\u001b[39m.\u001b[39;49mapply(\u001b[39mlambda\u001b[39;49;00m x: tp_ss_stem\u001b[39m.\u001b[39;49mstem_process_doc(x))\n",
      "File \u001b[1;32m~\\anaconda3\\envs\\contest_env\\lib\\site-packages\\pandas\\core\\series.py:4356\u001b[0m, in \u001b[0;36mSeries.apply\u001b[1;34m(self, func, convert_dtype, args, **kwargs)\u001b[0m\n\u001b[0;32m   <a href='file:///c%3A/Users/mikey/anaconda3/envs/contest_env/lib/site-packages/pandas/core/series.py?line=4245'>4246</a>\u001b[0m \u001b[39mdef\u001b[39;00m \u001b[39mapply\u001b[39m(\n\u001b[0;32m   <a href='file:///c%3A/Users/mikey/anaconda3/envs/contest_env/lib/site-packages/pandas/core/series.py?line=4246'>4247</a>\u001b[0m     \u001b[39mself\u001b[39m,\n\u001b[0;32m   <a href='file:///c%3A/Users/mikey/anaconda3/envs/contest_env/lib/site-packages/pandas/core/series.py?line=4247'>4248</a>\u001b[0m     func: AggFuncType,\n\u001b[1;32m   (...)\u001b[0m\n\u001b[0;32m   <a href='file:///c%3A/Users/mikey/anaconda3/envs/contest_env/lib/site-packages/pandas/core/series.py?line=4250'>4251</a>\u001b[0m     \u001b[39m*\u001b[39m\u001b[39m*\u001b[39mkwargs,\n\u001b[0;32m   <a href='file:///c%3A/Users/mikey/anaconda3/envs/contest_env/lib/site-packages/pandas/core/series.py?line=4251'>4252</a>\u001b[0m ) \u001b[39m-\u001b[39m\u001b[39m>\u001b[39m FrameOrSeriesUnion:\n\u001b[0;32m   <a href='file:///c%3A/Users/mikey/anaconda3/envs/contest_env/lib/site-packages/pandas/core/series.py?line=4252'>4253</a>\u001b[0m     \u001b[39m\"\"\"\u001b[39;00m\n\u001b[0;32m   <a href='file:///c%3A/Users/mikey/anaconda3/envs/contest_env/lib/site-packages/pandas/core/series.py?line=4253'>4254</a>\u001b[0m \u001b[39m    Invoke function on values of Series.\u001b[39;00m\n\u001b[0;32m   <a href='file:///c%3A/Users/mikey/anaconda3/envs/contest_env/lib/site-packages/pandas/core/series.py?line=4254'>4255</a>\u001b[0m \n\u001b[1;32m   (...)\u001b[0m\n\u001b[0;32m   <a href='file:///c%3A/Users/mikey/anaconda3/envs/contest_env/lib/site-packages/pandas/core/series.py?line=4353'>4354</a>\u001b[0m \u001b[39m    dtype: float64\u001b[39;00m\n\u001b[0;32m   <a href='file:///c%3A/Users/mikey/anaconda3/envs/contest_env/lib/site-packages/pandas/core/series.py?line=4354'>4355</a>\u001b[0m \u001b[39m    \"\"\"\u001b[39;00m\n\u001b[1;32m-> <a href='file:///c%3A/Users/mikey/anaconda3/envs/contest_env/lib/site-packages/pandas/core/series.py?line=4355'>4356</a>\u001b[0m     \u001b[39mreturn\u001b[39;00m SeriesApply(\u001b[39mself\u001b[39;49m, func, convert_dtype, args, kwargs)\u001b[39m.\u001b[39;49mapply()\n",
      "File \u001b[1;32m~\\anaconda3\\envs\\contest_env\\lib\\site-packages\\pandas\\core\\apply.py:1036\u001b[0m, in \u001b[0;36mSeriesApply.apply\u001b[1;34m(self)\u001b[0m\n\u001b[0;32m   <a href='file:///c%3A/Users/mikey/anaconda3/envs/contest_env/lib/site-packages/pandas/core/apply.py?line=1031'>1032</a>\u001b[0m \u001b[39mif\u001b[39;00m \u001b[39misinstance\u001b[39m(\u001b[39mself\u001b[39m\u001b[39m.\u001b[39mf, \u001b[39mstr\u001b[39m):\n\u001b[0;32m   <a href='file:///c%3A/Users/mikey/anaconda3/envs/contest_env/lib/site-packages/pandas/core/apply.py?line=1032'>1033</a>\u001b[0m     \u001b[39m# if we are a string, try to dispatch\u001b[39;00m\n\u001b[0;32m   <a href='file:///c%3A/Users/mikey/anaconda3/envs/contest_env/lib/site-packages/pandas/core/apply.py?line=1033'>1034</a>\u001b[0m     \u001b[39mreturn\u001b[39;00m \u001b[39mself\u001b[39m\u001b[39m.\u001b[39mapply_str()\n\u001b[1;32m-> <a href='file:///c%3A/Users/mikey/anaconda3/envs/contest_env/lib/site-packages/pandas/core/apply.py?line=1035'>1036</a>\u001b[0m \u001b[39mreturn\u001b[39;00m \u001b[39mself\u001b[39;49m\u001b[39m.\u001b[39;49mapply_standard()\n",
      "File \u001b[1;32m~\\anaconda3\\envs\\contest_env\\lib\\site-packages\\pandas\\core\\apply.py:1092\u001b[0m, in \u001b[0;36mSeriesApply.apply_standard\u001b[1;34m(self)\u001b[0m\n\u001b[0;32m   <a href='file:///c%3A/Users/mikey/anaconda3/envs/contest_env/lib/site-packages/pandas/core/apply.py?line=1085'>1086</a>\u001b[0m         values \u001b[39m=\u001b[39m obj\u001b[39m.\u001b[39mastype(\u001b[39mobject\u001b[39m)\u001b[39m.\u001b[39m_values\n\u001b[0;32m   <a href='file:///c%3A/Users/mikey/anaconda3/envs/contest_env/lib/site-packages/pandas/core/apply.py?line=1086'>1087</a>\u001b[0m         \u001b[39m# error: Argument 2 to \"map_infer\" has incompatible type\u001b[39;00m\n\u001b[0;32m   <a href='file:///c%3A/Users/mikey/anaconda3/envs/contest_env/lib/site-packages/pandas/core/apply.py?line=1087'>1088</a>\u001b[0m         \u001b[39m# \"Union[Callable[..., Any], str, List[Union[Callable[..., Any], str]],\u001b[39;00m\n\u001b[0;32m   <a href='file:///c%3A/Users/mikey/anaconda3/envs/contest_env/lib/site-packages/pandas/core/apply.py?line=1088'>1089</a>\u001b[0m         \u001b[39m# Dict[Hashable, Union[Union[Callable[..., Any], str],\u001b[39;00m\n\u001b[0;32m   <a href='file:///c%3A/Users/mikey/anaconda3/envs/contest_env/lib/site-packages/pandas/core/apply.py?line=1089'>1090</a>\u001b[0m         \u001b[39m# List[Union[Callable[..., Any], str]]]]]\"; expected\u001b[39;00m\n\u001b[0;32m   <a href='file:///c%3A/Users/mikey/anaconda3/envs/contest_env/lib/site-packages/pandas/core/apply.py?line=1090'>1091</a>\u001b[0m         \u001b[39m# \"Callable[[Any], Any]\"\u001b[39;00m\n\u001b[1;32m-> <a href='file:///c%3A/Users/mikey/anaconda3/envs/contest_env/lib/site-packages/pandas/core/apply.py?line=1091'>1092</a>\u001b[0m         mapped \u001b[39m=\u001b[39m lib\u001b[39m.\u001b[39;49mmap_infer(\n\u001b[0;32m   <a href='file:///c%3A/Users/mikey/anaconda3/envs/contest_env/lib/site-packages/pandas/core/apply.py?line=1092'>1093</a>\u001b[0m             values,\n\u001b[0;32m   <a href='file:///c%3A/Users/mikey/anaconda3/envs/contest_env/lib/site-packages/pandas/core/apply.py?line=1093'>1094</a>\u001b[0m             f,  \u001b[39m# type: ignore[arg-type]\u001b[39;49;00m\n\u001b[0;32m   <a href='file:///c%3A/Users/mikey/anaconda3/envs/contest_env/lib/site-packages/pandas/core/apply.py?line=1094'>1095</a>\u001b[0m             convert\u001b[39m=\u001b[39;49m\u001b[39mself\u001b[39;49m\u001b[39m.\u001b[39;49mconvert_dtype,\n\u001b[0;32m   <a href='file:///c%3A/Users/mikey/anaconda3/envs/contest_env/lib/site-packages/pandas/core/apply.py?line=1095'>1096</a>\u001b[0m         )\n\u001b[0;32m   <a href='file:///c%3A/Users/mikey/anaconda3/envs/contest_env/lib/site-packages/pandas/core/apply.py?line=1097'>1098</a>\u001b[0m \u001b[39mif\u001b[39;00m \u001b[39mlen\u001b[39m(mapped) \u001b[39mand\u001b[39;00m \u001b[39misinstance\u001b[39m(mapped[\u001b[39m0\u001b[39m], ABCSeries):\n\u001b[0;32m   <a href='file:///c%3A/Users/mikey/anaconda3/envs/contest_env/lib/site-packages/pandas/core/apply.py?line=1098'>1099</a>\u001b[0m     \u001b[39m# GH 25959 use pd.array instead of tolist\u001b[39;00m\n\u001b[0;32m   <a href='file:///c%3A/Users/mikey/anaconda3/envs/contest_env/lib/site-packages/pandas/core/apply.py?line=1099'>1100</a>\u001b[0m     \u001b[39m# so extension arrays can be used\u001b[39;00m\n\u001b[0;32m   <a href='file:///c%3A/Users/mikey/anaconda3/envs/contest_env/lib/site-packages/pandas/core/apply.py?line=1100'>1101</a>\u001b[0m     \u001b[39mreturn\u001b[39;00m obj\u001b[39m.\u001b[39m_constructor_expanddim(pd_array(mapped), index\u001b[39m=\u001b[39mobj\u001b[39m.\u001b[39mindex)\n",
      "File \u001b[1;32m~\\anaconda3\\envs\\contest_env\\lib\\site-packages\\pandas\\_libs\\lib.pyx:2859\u001b[0m, in \u001b[0;36mpandas._libs.lib.map_infer\u001b[1;34m()\u001b[0m\n",
      "\u001b[1;32mc:\\Users\\mikey\\Documents\\projects\\capstone\\data_preprocessing_2.ipynb Cell 19'\u001b[0m in \u001b[0;36m<lambda>\u001b[1;34m(x)\u001b[0m\n\u001b[1;32m----> <a href='vscode-notebook-cell:/c%3A/Users/mikey/Documents/projects/capstone/data_preprocessing_2.ipynb#ch0000019?line=0'>1</a>\u001b[0m good_data[\u001b[39m'\u001b[39m\u001b[39mss_stem\u001b[39m\u001b[39m'\u001b[39m] \u001b[39m=\u001b[39m good_data[\u001b[39m'\u001b[39m\u001b[39mtext\u001b[39m\u001b[39m'\u001b[39m]\u001b[39m.\u001b[39mapply(\u001b[39mlambda\u001b[39;00m x: tp_ss_stem\u001b[39m.\u001b[39;49mstem_process_doc(x))\n",
      "File \u001b[1;32mc:\\Users\\mikey\\Documents\\projects\\capstone\\preprocessing.py:124\u001b[0m, in \u001b[0;36mTextPreprocessor.stem_process_doc\u001b[1;34m(self, doc)\u001b[0m\n\u001b[0;32m    <a href='file:///c%3A/Users/mikey/Documents/projects/capstone/preprocessing.py?line=120'>121</a>\u001b[0m     \u001b[39mreturn\u001b[39;00m \u001b[39m\"\u001b[39m\u001b[39m \u001b[39m\u001b[39m\"\u001b[39m\u001b[39m.\u001b[39mjoin(stem_doc)\n\u001b[0;32m    <a href='file:///c%3A/Users/mikey/Documents/projects/capstone/preprocessing.py?line=122'>123</a>\u001b[0m \u001b[39melif\u001b[39;00m \u001b[39mself\u001b[39m\u001b[39m.\u001b[39mactivator_type \u001b[39m==\u001b[39m \u001b[39m'\u001b[39m\u001b[39mss\u001b[39m\u001b[39m'\u001b[39m:\n\u001b[1;32m--> <a href='file:///c%3A/Users/mikey/Documents/projects/capstone/preprocessing.py?line=123'>124</a>\u001b[0m     sn \u001b[39m=\u001b[39m SnowballStemmer()\n\u001b[0;32m    <a href='file:///c%3A/Users/mikey/Documents/projects/capstone/preprocessing.py?line=124'>125</a>\u001b[0m     stem_doc \u001b[39m=\u001b[39m [sn\u001b[39m.\u001b[39mstem(x) \u001b[39mfor\u001b[39;00m x \u001b[39min\u001b[39;00m doc_norm]\n\u001b[0;32m    <a href='file:///c%3A/Users/mikey/Documents/projects/capstone/preprocessing.py?line=125'>126</a>\u001b[0m     \u001b[39mreturn\u001b[39;00m \u001b[39m\"\u001b[39m\u001b[39m \u001b[39m\u001b[39m\"\u001b[39m\u001b[39m.\u001b[39mjoin(stem_doc)\n",
      "\u001b[1;31mNameError\u001b[0m: name 'SnowballStemmer' is not defined"
     ]
    }
   ],
   "source": [
    "good_data['ss_stem'] = good_data['text'].apply(lambda x: tp_ss_stem.stem_process_doc(x))"
   ]
  },
  {
   "cell_type": "code",
   "execution_count": null,
   "metadata": {},
   "outputs": [],
   "source": [
    "good_data.to_csv('data/stemmed_lemmed_data.csv')"
   ]
  },
  {
   "cell_type": "code",
   "execution_count": 36,
   "metadata": {},
   "outputs": [],
   "source": [
    "good_data.drop(columns=['ps_stem', 'ls_stem', 'ss_stem']).to_csv('lemmed_data.csv')"
   ]
  },
  {
   "cell_type": "code",
   "execution_count": null,
   "metadata": {},
   "outputs": [],
   "source": []
  }
 ],
 "metadata": {
  "kernelspec": {
   "display_name": "Python (contest)",
   "language": "python",
   "name": "contest_env"
  },
  "orig_nbformat": 4
 },
 "nbformat": 4,
 "nbformat_minor": 2
}
