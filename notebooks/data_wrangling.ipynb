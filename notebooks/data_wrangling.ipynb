{
 "cells": [
  {
   "cell_type": "markdown",
   "metadata": {},
   "source": [
    "# Screenplay Genre Classification\n",
    "\n",
    "## Data Wrangling I"
   ]
  },
  {
   "cell_type": "code",
   "execution_count": null,
   "metadata": {
    "vscode": {
     "languageId": "python"
    }
   },
   "outputs": [],
   "source": [
    "#importing necessary packages\n",
    "import pandas as pd\n",
    "import numpy as np\n",
    "import os"
   ]
  },
  {
   "cell_type": "markdown",
   "metadata": {},
   "source": [
    "### This function is used to load in the previous downloaded and converted text files from the data_collection.ipynb, and save the text and title to a python dictionary."
   ]
  },
  {
   "cell_type": "code",
   "execution_count": 359,
   "metadata": {
    "vscode": {
     "languageId": "python"
    }
   },
   "outputs": [],
   "source": [
    "#initializing dict\n",
    "screenplays = {'title': [], 'text': []}\n",
    "\n",
    "def screenplays_loader(dct):\n",
    "    \n",
    "    \"\"\"\n",
    "    This function takes in a dct as parameters and returns an updated dct\n",
    "    with title and text keys, and lists of titles and screenplay text respectively\n",
    "    \n",
    "    \"\"\"\n",
    "\n",
    "    directory = os.fsdecode('script_texts/')\n",
    "\n",
    "    for file in os.listdir(directory):\n",
    "\n",
    "        filename = os.fsdecode(file)\n",
    "        text = open(directory + '/' + filename, 'rb').read()\n",
    "        if len(text) > 0:\n",
    "            dct['title'].append(filename.strip('.txt'))\n",
    "            dct['text'].append(text)\n",
    "        else:\n",
    "            continue\n",
    "\n",
    "\n"
   ]
  },
  {
   "cell_type": "code",
   "execution_count": 360,
   "metadata": {
    "vscode": {
     "languageId": "python"
    }
   },
   "outputs": [],
   "source": [
    "#running the function\n",
    "screenplays_loader(screenplays)"
   ]
  },
  {
   "cell_type": "code",
   "execution_count": 361,
   "metadata": {
    "vscode": {
     "languageId": "python"
    }
   },
   "outputs": [
    {
     "data": {
      "text/plain": [
       "2125"
      ]
     },
     "execution_count": 361,
     "metadata": {},
     "output_type": "execute_result"
    }
   ],
   "source": [
    "#checking the length\n",
    "len(screenplays['title'])"
   ]
  },
  {
   "cell_type": "code",
   "execution_count": 362,
   "metadata": {
    "vscode": {
     "languageId": "python"
    }
   },
   "outputs": [],
   "source": [
    "#converting the dict into a pandas dataframe\n",
    "data = pd.DataFrame(screenplays)"
   ]
  },
  {
   "cell_type": "markdown",
   "metadata": {},
   "source": [
    "### The titles were saved with the scrip tag, underscores (_) and uneven spacing. It was necessary to clean the title names before using the api to retrieve genre labels for the respective titles."
   ]
  },
  {
   "cell_type": "code",
   "execution_count": 363,
   "metadata": {
    "vscode": {
     "languageId": "python"
    }
   },
   "outputs": [],
   "source": [
    "import re\n",
    "\n",
    "#cleaning titles\n",
    "data['title'] = data.title.str.replace('scrip', '')\n",
    "data['title'] = data.title.str.replace('_', ' ')\n",
    "data['title'] = data.title.apply(lambda x: re.sub(r\"\\B([A-Z])\", r\" \\1\", x))\n"
   ]
  },
  {
   "cell_type": "markdown",
   "metadata": {},
   "source": [
    "### I used the tmdbsimple python package which is a wrapper that connects me to the the Movie Database API. https://www.themoviedb.org/"
   ]
  },
  {
   "cell_type": "code",
   "execution_count": 365,
   "metadata": {
    "vscode": {
     "languageId": "python"
    }
   },
   "outputs": [],
   "source": [
    "#connecting to the movie database to match genre with title\n",
    "\n",
    "import tmdbsimple as tmdb\n",
    "\n",
    "tmdb.api_key = 'YOUR SECRET CODE' #codes are avaliable for free when signing up on their website\n",
    "\n",
    "#search object that looks up movie information by title\n",
    "search = tmdb.Search()\n",
    "\n",
    "#genre object\n",
    "genre = tmdb.Genres()\n",
    "\n",
    "#saving geres and coressponding codes for labelling\n",
    "genres_lst = genre.movie_list()"
   ]
  },
  {
   "cell_type": "code",
   "execution_count": 366,
   "metadata": {
    "vscode": {
     "languageId": "python"
    }
   },
   "outputs": [],
   "source": [
    "def genre_labeller(row):\n",
    "\n",
    "    \"\"\"\n",
    "    This function takes a movie title as a parameter\n",
    "    and returns a list of genres associated with respected movie\n",
    "\n",
    "    \"\"\"\n",
    "    \n",
    "    lst = []\n",
    "    \n",
    "    #the api could have multiple results\n",
    "    #this function tries different results if genre list is empty in first result\n",
    "    #up to three results\n",
    "    try:\n",
    "        for i in search.movie(query=row)['results'][0]['genre_ids']: #loops through list of genre ids\n",
    "            for x in genres_lst['genres']: #loops through list of genres\n",
    "                if x['id'] == i: #appends genre to lst if id matches the id from the query\n",
    "                    lst.append(x['name'])\n",
    "                else:\n",
    "                    continue\n",
    "    except:\n",
    "        pass\n",
    "\n",
    "    if len(lst) == 0: #tries another query if the first one fails, up to three times\n",
    "        try:\n",
    "            for i in search.movie(query=row)['results'][1]['genre_ids']:\n",
    "                for x in genres_lst['genres']:\n",
    "                    if x['id'] == i:\n",
    "                        lst.append(x['name'])\n",
    "                    else:\n",
    "                        continue\n",
    "        except:\n",
    "            pass\n",
    "\n",
    "    if len(lst) == 0:\n",
    "        try:\n",
    "            for i in search.movie(query=row)['results'][2]['genre_ids']:\n",
    "                for x in genres_lst['genres']:\n",
    "                    if x['id'] == i:\n",
    "                        lst.append(x['name'])\n",
    "                    else:\n",
    "                        continue\n",
    "        except:\n",
    "            pass\n",
    "\n",
    "    #some movie titles have 'the' before title name\n",
    "    if len(lst) == 0:\n",
    "        try:\n",
    "            for i in search.movie(query='The '+ row)['results'][0]['genre_ids']:\n",
    "                for x in genres_lst['genres']:\n",
    "                    if x['id'] == i:\n",
    "                        lst.append(x['name'])\n",
    "                    else:\n",
    "                        continue\n",
    "        except:\n",
    "            pass\n",
    "\n",
    "    \n",
    "    return lst"
   ]
  },
  {
   "cell_type": "code",
   "execution_count": 367,
   "metadata": {
    "vscode": {
     "languageId": "python"
    }
   },
   "outputs": [],
   "source": [
    "#applying function on all titles in dataset\n",
    "data['genre'] = data.title.apply(lambda x: genre_labeller(x))"
   ]
  },
  {
   "cell_type": "code",
   "execution_count": 368,
   "metadata": {
    "vscode": {
     "languageId": "python"
    }
   },
   "outputs": [],
   "source": [
    "#creating a column with genre amount\n",
    "data['genre_amount'] = data.genre.apply(lambda x: len(x))"
   ]
  },
  {
   "cell_type": "code",
   "execution_count": 369,
   "metadata": {
    "vscode": {
     "languageId": "python"
    }
   },
   "outputs": [
    {
     "name": "stdout",
     "output_type": "stream",
     "text": [
      "28 Hours Later \n",
      "A Crowded Room \n",
      "Addy Longhair \n",
      "Alien Engineers\n",
      "All The Pretty Dead Girls\n",
      "All The Best Cowboys Have Daddy Issues\n",
      "American Shaolin King Of Kickboxers I I\n",
      "An October Wedding\n",
      "Android Army\n",
      "Artic Blue\n",
      "Attack on Ant Hill\n",
      "Avengers Worlds Collide\n",
      "Baby Moon\n",
      "Back To The Future 2&3\n",
      "Ballad Of The Whiskey Robber\n",
      "Bar Room Hero\n",
      "Batman2\n",
      "Bay Watch\n",
      "Beverly Hills Cops\n",
      "Bizzaro\n",
      "Blaire Witch 2\n",
      "Boodock Saints 2\n",
      "Bounty Jumpers\n",
      "Boy Who Never Slep\n",
      "Bring Out The Dead\n",
      "Californication\n",
      "Candle To Water\n",
      "Carrie (2013)\n",
      "Cheating Season\n",
      "Chewie\n",
      "Christ Comple\n",
      "Chronicle 2 Martyr\n",
      "Cinema Paradisco\n",
      "Connan The Barbarian\n",
      "Dark Late At Nigh\n",
      "Darwins Game\n",
      "Dave Barrys Complete Guide To Guys\n",
      "Dawn Of The Dead (1978)\n",
      "Deep Sky\n",
      "Diamond Dead\n",
      "Dr Faustus\n",
      "Dr Strange Love\n",
      "Edward Ford\n",
      "En Cryp\n",
      "Fight Belle\n",
      "First Blood Vendetta\n",
      "Foggs Millions\n",
      "Forest Gump\n",
      "Frankenstein V2\n",
      "Fraud Is Dead\n",
      "Fright Night (2011)\n",
      "Fruit Vale Station\n",
      "Gideon’s Law\n",
      "Glen Garry Glen Ross\n",
      "God Father Part 2\n",
      "God Father Part 3\n",
      "Godzilla 1994\n",
      "Greenbergh\n",
      "Ground Hog Day\n",
      "Hannibal (2000)\n",
      "Hannibal Mame\n",
      "Hannibal Zaillian\n",
      "Hardware Ground Zero\n",
      "He’s Just Not Thaty Into You\n",
      "Highlander End Game\n",
      "House Of Thousand Corpses\n",
      "I Am Legend (Omega Man)\n",
      "In Tolerable Cruelty\n",
      "Ivanhov\n",
      "Joe V S The Volcano\n",
      "Keith Moon Was Here\n",
      "Lage Raho Munnabhai\n",
      "Last Time Forever\n",
      "Latchkeepers Annotated\n",
      "Leo And The Fizz Wig\n",
      "Leon(1994)\n",
      "Leprechaun Pride\n",
      "Let The Devil Ou\n",
      "Mac Gruber\n",
      "Made For Each Other(1939)\n",
      "Made(2001)\n",
      "Man Up Morris\n",
      "Martyr Chronicle 2\n",
      "Match Stick Men\n",
      "Mc Cabe And Mrs Miller\n",
      "Moby Dick Part 1\n",
      "Moby Dick Part 2\n",
      "My Mother Dreams The Satans Disciples In New York\n",
      "Napolean\n",
      "Night Breed\n",
      "Nightmare On Elm Street The Final Chapter\n",
      "Nightmare On Elm Street2\n",
      "Night Mare On Elm Street3\n",
      "Normal Adolesant Behavior\n",
      "One Saliva Bubble\n",
      "Peasantville\n",
      "Pixars 22 Rules Of Story\n",
      "Planet Of The Apes (1968)\n",
      "Planet Of The Apes (2001)\n",
      "Pretty Little Liars\n",
      "Raised By Another\n",
      "Return Of The Apes\n",
      "Rocky Punchers Chance\n",
      "Ronnie Rocke\n",
      "Rosemary’s Baby – Night One\n",
      "Savage Tales\n",
      "Scary Movie (2000)\n",
      "Sex Lies And Video Tapes\n",
      "Slay The Dreamer\n",
      "Sleep Away Camp 3\n",
      "Sorry Right Number\n",
      "Spare Me\n",
      "Squirrels Of New York\n",
      "Stalker A Love Story\n",
      "Star Trek A New Hope\n",
      "Star Wars The Return Of The Jedi\n",
      "Stop Huntingdon Animal Cruelty\n",
      "Suit Girl\n",
      "Superman The Man Of Steel\n",
      "Tell Me Youre In There\n",
      "The 49th Day\n",
      "The Amity Ville Asylum\n",
      "The Anniversity Party\n",
      "The Blast From The Pas\n",
      "The Body Guard\n",
      "The Borgia Apocalypse\n",
      "The Box Trolls\n",
      "The Crow 2037\n",
      "The Crow 3 Resurrection\n",
      "The Day The Earth Stood Still (1951)\n",
      "The Doors Of Perception\n",
      "The Dragons Of Krull\n",
      "The Fog At Dawn\n",
      "The German Lieutenan\n",
      "The Hollow Man\n",
      "The Magic Toy Shop\n",
      "The Marvelous Mrs Maisel\n",
      "The Mummy (2013)\n",
      "The Nine Lives Of Chloe King Salvation\n",
      "The Quantum Projec\n",
      "The Sex Drive\n",
      "The Sidewalks Of New York (1923)\n",
      "The Silver Linings Playbook\n",
      "The Son Of Saul\n",
      "The Spanish Tragedy\n",
      "The Things My Father Never Taught Me\n",
      "The Time Machine (1959)\n",
      "The Time Machine (2000)\n",
      "T H X1138\n",
      "Train Spotting\n",
      "Ulidavaru Kandante\n",
      "Waking Up The Day\n",
      "Waldos Hawaiian Holiday\n",
      "War Of The Worlds (1951)\n",
      "War Of The Worms\n",
      "What We Did On Our Vacation\n",
      "You Have Seven Days To Live\n"
     ]
    }
   ],
   "source": [
    "df = data[data.genre_amount != 0] #only want screenplays that have a labelled genre"
   ]
  },
  {
   "cell_type": "code",
   "execution_count": 370,
   "metadata": {
    "vscode": {
     "languageId": "python"
    }
   },
   "outputs": [],
   "source": [
    "#saving df to a csv file\n",
    "df.to_csv('data/txt_and_genres.csv')"
   ]
  },
  {
   "cell_type": "code",
   "execution_count": null,
   "metadata": {
    "vscode": {
     "languageId": "python"
    }
   },
   "outputs": [],
   "source": []
  }
 ],
 "metadata": {
  "kernelspec": {
   "display_name": "Python (contest)",
   "language": "python",
   "name": "contest_env"
  },
  "orig_nbformat": 4
 },
 "nbformat": 4,
 "nbformat_minor": 2
}
