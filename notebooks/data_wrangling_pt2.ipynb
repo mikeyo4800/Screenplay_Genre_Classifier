{
 "cells": [
  {
   "cell_type": "markdown",
   "metadata": {},
   "source": [
    "# Screenplay Genre Classification\n",
    "\n",
    "## Data Wrangling II"
   ]
  },
  {
   "cell_type": "code",
   "execution_count": 2,
   "metadata": {
    "vscode": {
     "languageId": "python"
    }
   },
   "outputs": [],
   "source": [
    "#importing necessary packages\n",
    "import pandas as pd\n",
    "import matplotlib.pyplot as plt"
   ]
  },
  {
   "cell_type": "code",
   "execution_count": 23,
   "metadata": {
    "vscode": {
     "languageId": "python"
    }
   },
   "outputs": [],
   "source": [
    "#loading in data\n",
    "data = pd.read_csv('data/txt_and_genres.csv', index_col = [0])"
   ]
  },
  {
   "cell_type": "code",
   "execution_count": 24,
   "metadata": {
    "vscode": {
     "languageId": "python"
    }
   },
   "outputs": [],
   "source": [
    "#only want data where genres exist\n",
    "data = data[data.genre_amount != 0].copy()"
   ]
  },
  {
   "cell_type": "code",
   "execution_count": 25,
   "metadata": {
    "vscode": {
     "languageId": "python"
    }
   },
   "outputs": [
    {
     "data": {
      "text/html": [
       "<div>\n",
       "<style scoped>\n",
       "    .dataframe tbody tr th:only-of-type {\n",
       "        vertical-align: middle;\n",
       "    }\n",
       "\n",
       "    .dataframe tbody tr th {\n",
       "        vertical-align: top;\n",
       "    }\n",
       "\n",
       "    .dataframe thead th {\n",
       "        text-align: right;\n",
       "    }\n",
       "</style>\n",
       "<table border=\"1\" class=\"dataframe\">\n",
       "  <thead>\n",
       "    <tr style=\"text-align: right;\">\n",
       "      <th></th>\n",
       "      <th>title</th>\n",
       "      <th>text</th>\n",
       "      <th>genre</th>\n",
       "      <th>genre_amount</th>\n",
       "    </tr>\n",
       "  </thead>\n",
       "  <tbody>\n",
       "    <tr>\n",
       "      <th>0</th>\n",
       "      <td>Domino</td>\n",
       "      <td>b'D      O       M       I       N       O\\r\\n...</td>\n",
       "      <td>['Thriller', 'Action', 'Crime']</td>\n",
       "      <td>3</td>\n",
       "    </tr>\n",
       "    <tr>\n",
       "      <th>1</th>\n",
       "      <td>Knocked Up</td>\n",
       "      <td>b'KNOCKED UP\\r\\n\\r\\nWritten by\\r\\n\\r\\nJudd Apa...</td>\n",
       "      <td>['Comedy', 'Romance', 'Drama']</td>\n",
       "      <td>3</td>\n",
       "    </tr>\n",
       "    <tr>\n",
       "      <th>2</th>\n",
       "      <td>10 Things I Hate About You</td>\n",
       "      <td>b'TEN THINGS I HATE ABOUT YOU\\r\\n\\r\\nwritten b...</td>\n",
       "      <td>['Comedy', 'Romance', 'Drama']</td>\n",
       "      <td>3</td>\n",
       "    </tr>\n",
       "    <tr>\n",
       "      <th>3</th>\n",
       "      <td>10000 B C</td>\n",
       "      <td>b\"10,000 B.C.\\r\\nby\\r\\nRoland Emmerich &amp; Haral...</td>\n",
       "      <td>['Adventure', 'Action', 'Drama', 'Fantasy']</td>\n",
       "      <td>4</td>\n",
       "    </tr>\n",
       "    <tr>\n",
       "      <th>4</th>\n",
       "      <td>12 And Holding</td>\n",
       "      <td>b'12 AND HOLDING\\r\\n\\r\\nWritten by\\r\\n\\r\\nAnth...</td>\n",
       "      <td>['Drama']</td>\n",
       "      <td>1</td>\n",
       "    </tr>\n",
       "  </tbody>\n",
       "</table>\n",
       "</div>"
      ],
      "text/plain": [
       "                         title  \\\n",
       "0                       Domino   \n",
       "1                   Knocked Up   \n",
       "2  10 Things I Hate About You    \n",
       "3                   10000 B C    \n",
       "4              12 And Holding    \n",
       "\n",
       "                                                text  \\\n",
       "0  b'D      O       M       I       N       O\\r\\n...   \n",
       "1  b'KNOCKED UP\\r\\n\\r\\nWritten by\\r\\n\\r\\nJudd Apa...   \n",
       "2  b'TEN THINGS I HATE ABOUT YOU\\r\\n\\r\\nwritten b...   \n",
       "3  b\"10,000 B.C.\\r\\nby\\r\\nRoland Emmerich & Haral...   \n",
       "4  b'12 AND HOLDING\\r\\n\\r\\nWritten by\\r\\n\\r\\nAnth...   \n",
       "\n",
       "                                         genre  genre_amount  \n",
       "0              ['Thriller', 'Action', 'Crime']             3  \n",
       "1               ['Comedy', 'Romance', 'Drama']             3  \n",
       "2               ['Comedy', 'Romance', 'Drama']             3  \n",
       "3  ['Adventure', 'Action', 'Drama', 'Fantasy']             4  \n",
       "4                                    ['Drama']             1  "
      ]
     },
     "execution_count": 25,
     "metadata": {},
     "output_type": "execute_result"
    }
   ],
   "source": [
    "data.head()"
   ]
  },
  {
   "cell_type": "markdown",
   "metadata": {},
   "source": [
    "### In this notebook, I continue to clean the data and then create the target classes using one hot enocoding."
   ]
  },
  {
   "cell_type": "code",
   "execution_count": 26,
   "metadata": {
    "vscode": {
     "languageId": "python"
    }
   },
   "outputs": [
    {
     "name": "stderr",
     "output_type": "stream",
     "text": [
      "C:\\Users\\mikey\\AppData\\Local\\Temp\\ipykernel_21088\\1628358882.py:2: FutureWarning: The default value of regex will change from True to False in a future version. In addition, single character regular expressions will *not* be treated as literal strings when regex=True.\n",
      "  data['genre'] = data.genre.str.replace(']', '').str.strip('[').str.replace(',', '').str.split()\n"
     ]
    }
   ],
   "source": [
    "#cleaning the lists of genres in the genre column\n",
    "data['genre'] = data.genre.str.replace(']', '').str.strip('[').str.replace(',', '').str.split()"
   ]
  },
  {
   "cell_type": "code",
   "execution_count": 27,
   "metadata": {
    "vscode": {
     "languageId": "python"
    }
   },
   "outputs": [],
   "source": [
    "def lst_breaker(lst_of_genres):\n",
    "    \n",
    "    \"\"\"\n",
    "    This function takes a list of genres and returns a clean version. Specifically if the list contains Science and Fiction as two separate elements,\n",
    "    then this function will delete both elements and append SciFi\n",
    "    \n",
    "    \"\"\"\n",
    "\n",
    "    lst = [] #intializes list to replace lst_of_genres\n",
    "    \n",
    "    for i in lst_of_genres:\n",
    "        lst.append(i.strip(\"'\")) #strips unnecessary \" ' \"\n",
    "    \n",
    "    if 'Science' in lst: #checks if 'Science' element is in list\n",
    "        idx = lst.index('Science') #saves index\n",
    "        lst.insert(idx, 'SciFi') #inserts SciFi in Science index position\n",
    "        lst.remove('Science') \n",
    "        lst.remove('Fiction') #removes Science and Fiction from lst\n",
    "\n",
    "    if 'TV' in lst:\n",
    "        lst.remove('TV')\n",
    "        lst.remove('Movie')\n",
    "\n",
    "    return lst #returns clean, updated lst"
   ]
  },
  {
   "cell_type": "code",
   "execution_count": 28,
   "metadata": {
    "vscode": {
     "languageId": "python"
    }
   },
   "outputs": [],
   "source": [
    "#applying lst_breaker function\n",
    "data['genre'] = data.genre.apply(lambda x: lst_breaker(x))"
   ]
  },
  {
   "cell_type": "code",
   "execution_count": 29,
   "metadata": {
    "vscode": {
     "languageId": "python"
    }
   },
   "outputs": [
    {
     "data": {
      "text/html": [
       "<div>\n",
       "<style scoped>\n",
       "    .dataframe tbody tr th:only-of-type {\n",
       "        vertical-align: middle;\n",
       "    }\n",
       "\n",
       "    .dataframe tbody tr th {\n",
       "        vertical-align: top;\n",
       "    }\n",
       "\n",
       "    .dataframe thead th {\n",
       "        text-align: right;\n",
       "    }\n",
       "</style>\n",
       "<table border=\"1\" class=\"dataframe\">\n",
       "  <thead>\n",
       "    <tr style=\"text-align: right;\">\n",
       "      <th></th>\n",
       "      <th>title</th>\n",
       "      <th>text</th>\n",
       "      <th>genre</th>\n",
       "      <th>genre_amount</th>\n",
       "    </tr>\n",
       "  </thead>\n",
       "  <tbody>\n",
       "    <tr>\n",
       "      <th>0</th>\n",
       "      <td>Domino</td>\n",
       "      <td>b'D      O       M       I       N       O\\r\\n...</td>\n",
       "      <td>[Thriller, Action, Crime]</td>\n",
       "      <td>3</td>\n",
       "    </tr>\n",
       "    <tr>\n",
       "      <th>1</th>\n",
       "      <td>Knocked Up</td>\n",
       "      <td>b'KNOCKED UP\\r\\n\\r\\nWritten by\\r\\n\\r\\nJudd Apa...</td>\n",
       "      <td>[Comedy, Romance, Drama]</td>\n",
       "      <td>3</td>\n",
       "    </tr>\n",
       "    <tr>\n",
       "      <th>2</th>\n",
       "      <td>10 Things I Hate About You</td>\n",
       "      <td>b'TEN THINGS I HATE ABOUT YOU\\r\\n\\r\\nwritten b...</td>\n",
       "      <td>[Comedy, Romance, Drama]</td>\n",
       "      <td>3</td>\n",
       "    </tr>\n",
       "    <tr>\n",
       "      <th>3</th>\n",
       "      <td>10000 B C</td>\n",
       "      <td>b\"10,000 B.C.\\r\\nby\\r\\nRoland Emmerich &amp; Haral...</td>\n",
       "      <td>[Adventure, Action, Drama, Fantasy]</td>\n",
       "      <td>4</td>\n",
       "    </tr>\n",
       "    <tr>\n",
       "      <th>4</th>\n",
       "      <td>12 And Holding</td>\n",
       "      <td>b'12 AND HOLDING\\r\\n\\r\\nWritten by\\r\\n\\r\\nAnth...</td>\n",
       "      <td>[Drama]</td>\n",
       "      <td>1</td>\n",
       "    </tr>\n",
       "  </tbody>\n",
       "</table>\n",
       "</div>"
      ],
      "text/plain": [
       "                         title  \\\n",
       "0                       Domino   \n",
       "1                   Knocked Up   \n",
       "2  10 Things I Hate About You    \n",
       "3                   10000 B C    \n",
       "4              12 And Holding    \n",
       "\n",
       "                                                text  \\\n",
       "0  b'D      O       M       I       N       O\\r\\n...   \n",
       "1  b'KNOCKED UP\\r\\n\\r\\nWritten by\\r\\n\\r\\nJudd Apa...   \n",
       "2  b'TEN THINGS I HATE ABOUT YOU\\r\\n\\r\\nwritten b...   \n",
       "3  b\"10,000 B.C.\\r\\nby\\r\\nRoland Emmerich & Haral...   \n",
       "4  b'12 AND HOLDING\\r\\n\\r\\nWritten by\\r\\n\\r\\nAnth...   \n",
       "\n",
       "                                 genre  genre_amount  \n",
       "0            [Thriller, Action, Crime]             3  \n",
       "1             [Comedy, Romance, Drama]             3  \n",
       "2             [Comedy, Romance, Drama]             3  \n",
       "3  [Adventure, Action, Drama, Fantasy]             4  \n",
       "4                              [Drama]             1  "
      ]
     },
     "execution_count": 29,
     "metadata": {},
     "output_type": "execute_result"
    }
   ],
   "source": [
    "data.head()"
   ]
  },
  {
   "cell_type": "markdown",
   "metadata": {},
   "source": [
    "### Now that the genre column is clean, I apply one hot enocoding to create targets for the multilabel classification model."
   ]
  },
  {
   "cell_type": "code",
   "execution_count": 30,
   "metadata": {
    "vscode": {
     "languageId": "python"
    }
   },
   "outputs": [
    {
     "data": {
      "text/plain": [
       "['Crime',\n",
       " 'Romance',\n",
       " 'Animation',\n",
       " 'SciFi',\n",
       " 'Fantasy',\n",
       " 'History',\n",
       " 'Action',\n",
       " 'Drama',\n",
       " 'War',\n",
       " 'Thriller',\n",
       " 'Mystery',\n",
       " 'Documentary',\n",
       " 'Horror',\n",
       " 'Family',\n",
       " 'Adventure',\n",
       " 'Music',\n",
       " 'Comedy',\n",
       " 'Western']"
      ]
     },
     "execution_count": 30,
     "metadata": {},
     "output_type": "execute_result"
    }
   ],
   "source": [
    "#creating a list of genres to one hot enocode\n",
    "\n",
    "genre_lst = []\n",
    "\n",
    "for i in data.genre:\n",
    "    for x in i: #loops through genre column and appends genre names to list\n",
    "        genre_lst.append(x)\n",
    "\n",
    "genre_lst = list(set(genre_lst)) #creates a set to remove duplicates\n",
    "genre_lst"
   ]
  },
  {
   "cell_type": "code",
   "execution_count": 31,
   "metadata": {
    "vscode": {
     "languageId": "python"
    }
   },
   "outputs": [],
   "source": [
    "def genre_check(lst_of_genres, genre):\n",
    "    \n",
    "    \"\"\"\n",
    "    This function takes a list of genres and a genre name. If the genre name exists in the list\n",
    "    the function returns 1. Else, returns 0. Ultimately, this is the function that one hot encodes our targets.\n",
    "    \n",
    "    \"\"\"\n",
    "    if genre in lst_of_genres:\n",
    "        return 1\n",
    "    else:\n",
    "        return 0"
   ]
  },
  {
   "cell_type": "code",
   "execution_count": 32,
   "metadata": {
    "vscode": {
     "languageId": "python"
    }
   },
   "outputs": [],
   "source": [
    "#loops through genre_lst\n",
    "for i in genre_lst:\n",
    "    data[i] = data.genre.apply(lambda x: genre_check(x, i)) #creates a column for each genre with 1s and 0s"
   ]
  },
  {
   "cell_type": "code",
   "execution_count": 33,
   "metadata": {
    "vscode": {
     "languageId": "python"
    }
   },
   "outputs": [
    {
     "data": {
      "text/html": [
       "<div>\n",
       "<style scoped>\n",
       "    .dataframe tbody tr th:only-of-type {\n",
       "        vertical-align: middle;\n",
       "    }\n",
       "\n",
       "    .dataframe tbody tr th {\n",
       "        vertical-align: top;\n",
       "    }\n",
       "\n",
       "    .dataframe thead th {\n",
       "        text-align: right;\n",
       "    }\n",
       "</style>\n",
       "<table border=\"1\" class=\"dataframe\">\n",
       "  <thead>\n",
       "    <tr style=\"text-align: right;\">\n",
       "      <th></th>\n",
       "      <th>title</th>\n",
       "      <th>text</th>\n",
       "      <th>genre</th>\n",
       "      <th>genre_amount</th>\n",
       "      <th>Crime</th>\n",
       "      <th>Romance</th>\n",
       "      <th>Animation</th>\n",
       "      <th>SciFi</th>\n",
       "      <th>Fantasy</th>\n",
       "      <th>History</th>\n",
       "      <th>...</th>\n",
       "      <th>War</th>\n",
       "      <th>Thriller</th>\n",
       "      <th>Mystery</th>\n",
       "      <th>Documentary</th>\n",
       "      <th>Horror</th>\n",
       "      <th>Family</th>\n",
       "      <th>Adventure</th>\n",
       "      <th>Music</th>\n",
       "      <th>Comedy</th>\n",
       "      <th>Western</th>\n",
       "    </tr>\n",
       "  </thead>\n",
       "  <tbody>\n",
       "    <tr>\n",
       "      <th>0</th>\n",
       "      <td>Domino</td>\n",
       "      <td>b'D      O       M       I       N       O\\r\\n...</td>\n",
       "      <td>[Thriller, Action, Crime]</td>\n",
       "      <td>3</td>\n",
       "      <td>1</td>\n",
       "      <td>0</td>\n",
       "      <td>0</td>\n",
       "      <td>0</td>\n",
       "      <td>0</td>\n",
       "      <td>0</td>\n",
       "      <td>...</td>\n",
       "      <td>0</td>\n",
       "      <td>1</td>\n",
       "      <td>0</td>\n",
       "      <td>0</td>\n",
       "      <td>0</td>\n",
       "      <td>0</td>\n",
       "      <td>0</td>\n",
       "      <td>0</td>\n",
       "      <td>0</td>\n",
       "      <td>0</td>\n",
       "    </tr>\n",
       "    <tr>\n",
       "      <th>1</th>\n",
       "      <td>Knocked Up</td>\n",
       "      <td>b'KNOCKED UP\\r\\n\\r\\nWritten by\\r\\n\\r\\nJudd Apa...</td>\n",
       "      <td>[Comedy, Romance, Drama]</td>\n",
       "      <td>3</td>\n",
       "      <td>0</td>\n",
       "      <td>1</td>\n",
       "      <td>0</td>\n",
       "      <td>0</td>\n",
       "      <td>0</td>\n",
       "      <td>0</td>\n",
       "      <td>...</td>\n",
       "      <td>0</td>\n",
       "      <td>0</td>\n",
       "      <td>0</td>\n",
       "      <td>0</td>\n",
       "      <td>0</td>\n",
       "      <td>0</td>\n",
       "      <td>0</td>\n",
       "      <td>0</td>\n",
       "      <td>1</td>\n",
       "      <td>0</td>\n",
       "    </tr>\n",
       "    <tr>\n",
       "      <th>2</th>\n",
       "      <td>10 Things I Hate About You</td>\n",
       "      <td>b'TEN THINGS I HATE ABOUT YOU\\r\\n\\r\\nwritten b...</td>\n",
       "      <td>[Comedy, Romance, Drama]</td>\n",
       "      <td>3</td>\n",
       "      <td>0</td>\n",
       "      <td>1</td>\n",
       "      <td>0</td>\n",
       "      <td>0</td>\n",
       "      <td>0</td>\n",
       "      <td>0</td>\n",
       "      <td>...</td>\n",
       "      <td>0</td>\n",
       "      <td>0</td>\n",
       "      <td>0</td>\n",
       "      <td>0</td>\n",
       "      <td>0</td>\n",
       "      <td>0</td>\n",
       "      <td>0</td>\n",
       "      <td>0</td>\n",
       "      <td>1</td>\n",
       "      <td>0</td>\n",
       "    </tr>\n",
       "    <tr>\n",
       "      <th>3</th>\n",
       "      <td>10000 B C</td>\n",
       "      <td>b\"10,000 B.C.\\r\\nby\\r\\nRoland Emmerich &amp; Haral...</td>\n",
       "      <td>[Adventure, Action, Drama, Fantasy]</td>\n",
       "      <td>4</td>\n",
       "      <td>0</td>\n",
       "      <td>0</td>\n",
       "      <td>0</td>\n",
       "      <td>0</td>\n",
       "      <td>1</td>\n",
       "      <td>0</td>\n",
       "      <td>...</td>\n",
       "      <td>0</td>\n",
       "      <td>0</td>\n",
       "      <td>0</td>\n",
       "      <td>0</td>\n",
       "      <td>0</td>\n",
       "      <td>0</td>\n",
       "      <td>1</td>\n",
       "      <td>0</td>\n",
       "      <td>0</td>\n",
       "      <td>0</td>\n",
       "    </tr>\n",
       "    <tr>\n",
       "      <th>4</th>\n",
       "      <td>12 And Holding</td>\n",
       "      <td>b'12 AND HOLDING\\r\\n\\r\\nWritten by\\r\\n\\r\\nAnth...</td>\n",
       "      <td>[Drama]</td>\n",
       "      <td>1</td>\n",
       "      <td>0</td>\n",
       "      <td>0</td>\n",
       "      <td>0</td>\n",
       "      <td>0</td>\n",
       "      <td>0</td>\n",
       "      <td>0</td>\n",
       "      <td>...</td>\n",
       "      <td>0</td>\n",
       "      <td>0</td>\n",
       "      <td>0</td>\n",
       "      <td>0</td>\n",
       "      <td>0</td>\n",
       "      <td>0</td>\n",
       "      <td>0</td>\n",
       "      <td>0</td>\n",
       "      <td>0</td>\n",
       "      <td>0</td>\n",
       "    </tr>\n",
       "  </tbody>\n",
       "</table>\n",
       "<p>5 rows × 22 columns</p>\n",
       "</div>"
      ],
      "text/plain": [
       "                         title  \\\n",
       "0                       Domino   \n",
       "1                   Knocked Up   \n",
       "2  10 Things I Hate About You    \n",
       "3                   10000 B C    \n",
       "4              12 And Holding    \n",
       "\n",
       "                                                text  \\\n",
       "0  b'D      O       M       I       N       O\\r\\n...   \n",
       "1  b'KNOCKED UP\\r\\n\\r\\nWritten by\\r\\n\\r\\nJudd Apa...   \n",
       "2  b'TEN THINGS I HATE ABOUT YOU\\r\\n\\r\\nwritten b...   \n",
       "3  b\"10,000 B.C.\\r\\nby\\r\\nRoland Emmerich & Haral...   \n",
       "4  b'12 AND HOLDING\\r\\n\\r\\nWritten by\\r\\n\\r\\nAnth...   \n",
       "\n",
       "                                 genre  genre_amount  Crime  Romance  \\\n",
       "0            [Thriller, Action, Crime]             3      1        0   \n",
       "1             [Comedy, Romance, Drama]             3      0        1   \n",
       "2             [Comedy, Romance, Drama]             3      0        1   \n",
       "3  [Adventure, Action, Drama, Fantasy]             4      0        0   \n",
       "4                              [Drama]             1      0        0   \n",
       "\n",
       "   Animation  SciFi  Fantasy  History  ...  War  Thriller  Mystery  \\\n",
       "0          0      0        0        0  ...    0         1        0   \n",
       "1          0      0        0        0  ...    0         0        0   \n",
       "2          0      0        0        0  ...    0         0        0   \n",
       "3          0      0        1        0  ...    0         0        0   \n",
       "4          0      0        0        0  ...    0         0        0   \n",
       "\n",
       "   Documentary  Horror  Family  Adventure  Music  Comedy  Western  \n",
       "0            0       0       0          0      0       0        0  \n",
       "1            0       0       0          0      0       1        0  \n",
       "2            0       0       0          0      0       1        0  \n",
       "3            0       0       0          1      0       0        0  \n",
       "4            0       0       0          0      0       0        0  \n",
       "\n",
       "[5 rows x 22 columns]"
      ]
     },
     "execution_count": 33,
     "metadata": {},
     "output_type": "execute_result"
    }
   ],
   "source": [
    "data.head()"
   ]
  },
  {
   "cell_type": "code",
   "execution_count": 34,
   "metadata": {
    "vscode": {
     "languageId": "python"
    }
   },
   "outputs": [],
   "source": [
    "#appending totals of each genre to list\n",
    "sums = []\n",
    "for i in genre_lst:\n",
    "    total = data[i].sum()\n",
    "    sums.append(total)\n"
   ]
  },
  {
   "cell_type": "code",
   "execution_count": 35,
   "metadata": {
    "vscode": {
     "languageId": "python"
    }
   },
   "outputs": [
    {
     "data": {
      "image/png": "[encoded data removed]",
      "text/plain": [
       "<Figure size 1080x576 with 1 Axes>"
      ]
     },
     "metadata": {
      "needs_background": "light"
     },
     "output_type": "display_data"
    }
   ],
   "source": [
    "import matplotlib.pyplot as plt\n",
    "\n",
    "#plotting class distribution\n",
    "\n",
    "fig, ax = plt.subplots(figsize=(15,8))\n",
    "\n",
    "ax.bar(list(range(len(genre_lst))), sums)\n",
    "ax.set_xticks(list(range(len(genre_lst))))\n",
    "ax.set_xticklabels(genre_lst, rotation=40)\n",
    "ax.set_title('Amount of Screenplays by Genre', size=25)\n",
    "\n",
    "plt.show()"
   ]
  },
  {
   "cell_type": "markdown",
   "metadata": {},
   "source": [
    "### Clearly there a class imbalances with Drama being the most common genre, while Documentary, Wester, and War are not as common. Although, keep in mind, most screenplays are different combinations of these genres. In the next EDA notebooks, I explore the different combinations of genres and amount of genres distribution."
   ]
  },
  {
   "cell_type": "code",
   "execution_count": null,
   "metadata": {
    "vscode": {
     "languageId": "python"
    }
   },
   "outputs": [],
   "source": [
    "#saving data\n",
    "data.to_csv('data/cleaned_data.csv')"
   ]
  },
  {
   "cell_type": "code",
   "execution_count": null,
   "metadata": {
    "vscode": {
     "languageId": "python"
    }
   },
   "outputs": [],
   "source": []
  }
 ],
 "metadata": {
  "kernelspec": {
   "display_name": "Python (contest)",
   "language": "python",
   "name": "contest_env"
  },
  "orig_nbformat": 4
 },
 "nbformat": 4,
 "nbformat_minor": 2
}
